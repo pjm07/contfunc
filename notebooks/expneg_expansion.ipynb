{
 "cells": [
  {
   "cell_type": "markdown",
   "id": "498b44bf",
   "metadata": {},
   "source": [
    "# Continued exponential-negative expansion\n",
    "This notebook focuses on the continued exponential-negative (\"expneg\") expansion. \n",
    "For some positive real number $r$ it takes the general form\n",
    "\n",
    "$r = b_{0} + \\mathrm{exp}(- b_{1} + \\mathrm{exp}(- b_{2} + \\mathrm{exp}(- b_{3} + \\mathrm{exp}(-\\dots))))$.\n",
    "\n",
    "Here, the series $B = \\{b_{0}; b_{1}, b_{2}, b_{3}, \\dots$ contains the _digits_ of the simple continued exponential-negative expansion of $r$, all of which are natural numbers.\n",
    "($b_{0}$, the whole-number part of $r$ is followed by a semicolon because it is only debatably part of a number's canonical expansion.\n",
    "We include it in the fitting procedure everywhere in this library.)\n",
    "\n",
    "The exponential-negative function has the necessary properties outlined in [Rényi (1957)](https://link.springer.com/article/10.1007/BF02020331) for a continued expansion in a function that is increasing on $[0, \\infty)$.\n",
    "Its inverse ($-\\mathrm{log}$) also presents no problems in the extraction of $B$, which occurs as follows:\n",
    "\n",
    "$$ a_{n} =   \\left\\{\n",
    "\\begin{array}{ll}\n",
    "      r & n = 0 \\\\\n",
    "      -\\mathrm{log}(a_{n - 1} - b_{n - 1}) & n > 0 \\\\\n",
    "\\end{array} \n",
    "\\right.  $$ with\n",
    "\n",
    "$b_{n} = \\lfloor a_{n} \\rfloor$.\n",
    "\n",
    "Our goal is to learn just how regular the seemingly random digits of these constants' continued exponential-negative expansions really are.\n",
    "Currently, we conduct a rigorous fitting procedure and draw conclusions only about the circle constant $\\pi$ (\"pi\") and the Euler's number $e$ (\"e\").\n",
    "Our hope is to expand to the consideration of other important constants of nature as well."
   ]
  },
  {
   "cell_type": "markdown",
   "id": "05cc489d",
   "metadata": {},
   "source": [
    "### Import statements"
   ]
  },
  {
   "cell_type": "code",
   "execution_count": 1,
   "id": "7a08fecb",
   "metadata": {},
   "outputs": [],
   "source": [
    "import sys\n",
    "sys.path.append(\"C:/Users/pjmil/Research/contfunc\")"
   ]
  },
  {
   "cell_type": "code",
   "execution_count": 2,
   "id": "8e4174ea",
   "metadata": {
    "ExecuteTime": {
     "end_time": "2025-02-08T21:11:41.132027Z",
     "start_time": "2025-02-08T21:11:41.097119Z"
    }
   },
   "outputs": [],
   "source": [
    "from fccf.constants import *\n",
    "from fccf.functions import *\n",
    "import numpy as np\n",
    "from mpmath import mp"
   ]
  },
  {
   "cell_type": "markdown",
   "id": "e3adfd80",
   "metadata": {},
   "source": [
    "### Setting `mpmath` precision"
   ]
  },
  {
   "cell_type": "code",
   "execution_count": 3,
   "id": "528b115e",
   "metadata": {},
   "outputs": [],
   "source": [
    "places = 500\n",
    "mp.dps = places"
   ]
  },
  {
   "cell_type": "markdown",
   "id": "8eb58aa8",
   "metadata": {},
   "source": [
    "### Sets the function of interest for the expansion"
   ]
  },
  {
   "cell_type": "code",
   "execution_count": 4,
   "id": "758a78f2",
   "metadata": {},
   "outputs": [],
   "source": [
    "CF = ExpNegCF"
   ]
  },
  {
   "cell_type": "markdown",
   "id": "d6c57e8d",
   "metadata": {},
   "source": [
    "### Extracts $B$"
   ]
  },
  {
   "cell_type": "code",
   "execution_count": 5,
   "id": "1f4d2ddb",
   "metadata": {},
   "outputs": [
    {
     "name": "stdout",
     "output_type": "stream",
     "text": [
      "100000 terms.\n",
      "200000 terms.\n",
      "300000 terms.\n",
      "400000 terms.\n",
      "500000 terms.\n",
      "600000 terms.\n",
      "700000 terms.\n",
      "800000 terms.\n",
      "900000 terms.\n",
      "1000000 terms.\n"
     ]
    }
   ],
   "source": [
    "# target value for expansion\n",
    "r = mp.mpmathify(e_500_str)\n",
    "\n",
    "# maximum digits in B\n",
    "i_max = 1000000\n",
    "i = 0\n",
    "\n",
    "# empty lists for the expansions\n",
    "a_list = []\n",
    "b_list = []\n",
    "nonzero_indices = []\n",
    "nonzero_entries = []\n",
    "\n",
    "while i < i_max:\n",
    "    if i == 0:\n",
    "        a_list.append(r)\n",
    "    else:\n",
    "        a_list.append(CF.inv_func(mp.fsub(a_list[i - 1], b_list[i - 1])))\n",
    "\n",
    "    b_list.append(int(mp.floor(a_list[i])))\n",
    "\n",
    "    if b_list[i] != 0:\n",
    "        nonzero_indices.append(i)\n",
    "        nonzero_entries.append(b_list[i])\n",
    "\n",
    "    i += 1\n",
    "\n",
    "    # prints the number of terms every 10% of the way to the total\n",
    "    if i % (i_max // 10) == 0:\n",
    "        print(str(i) + \" terms.\")"
   ]
  },
  {
   "cell_type": "markdown",
   "id": "00b96eb8",
   "metadata": {},
   "source": [
    "### Prints results"
   ]
  },
  {
   "cell_type": "code",
   "execution_count": 6,
   "id": "8aba2dfb",
   "metadata": {},
   "outputs": [
    {
     "name": "stdout",
     "output_type": "stream",
     "text": [
      "The maximum entry of B is 14.\n",
      "The first 1000 terms of B are [2, 0, 1, 2, 1, 0, 0, 2, 1, 0, 0, 0, 0, 2, 0, 0, 0, 0, 0, 0, 3, 0, 0, 0, 1, 0, 2, 0, 1, 2, 1, 1, 1, 0, 1, 0, 0, 1, 1, 2, 0, 1, 1, 0, 2, 0, 1, 2, 1, 1, 0, 0, 0, 0, 3, 0, 0, 2, 0, 1, 2, 0, 0, 0, 0, 0, 0, 0, 1, 2, 0, 0, 0, 3, 0, 0, 2, 1, 0, 0, 0, 0, 0, 0, 1, 1, 1, 1, 1, 0, 0, 0, 0, 0, 0, 0, 0, 0, 3, 0, 3, 0, 6, 1, 2, 1, 1, 2, 0, 2, 0, 1, 0, 2, 0, 0, 0, 0, 0, 1, 2, 0, 0, 0, 1, 1, 1, 1, 0, 0, 1, 1, 1, 0, 0, 1, 0, 1, 0, 0, 0, 1, 1, 1, 0, 0, 0, 0, 1, 3, 1, 1, 1, 0, 1, 0, 0, 0, 1, 1, 1, 1, 3, 1, 1, 0, 0, 4, 2, 0, 0, 0, 2, 0, 0, 4, 0, 0, 1, 2, 2, 1, 0, 0, 0, 0, 1, 2, 3, 0, 0, 1, 1, 0, 2, 0, 2, 1, 1, 0, 0, 0, 3, 0, 2, 0, 0, 0, 0, 1, 0, 1, 0, 0, 2, 0, 0, 0, 0, 1, 1, 1, 1, 1, 1, 1, 0, 0, 0, 0, 0, 2, 1, 1, 0, 0, 1, 1, 1, 1, 1, 1, 2, 1, 1, 0, 0, 0, 1, 2, 1, 0, 0, 1, 1, 0, 0, 1, 2, 0, 0, 0, 1, 0, 2, 2, 0, 0, 0, 1, 1, 0, 0, 1, 0, 0, 2, 0, 1, 1, 0, 0, 0, 0, 0, 0, 0, 0, 1, 0, 0, 1, 0, 0, 0, 0, 2, 0, 0, 1, 1, 0, 4, 1, 1, 0, 1, 1, 1, 0, 0, 0, 2, 0, 1, 2, 0, 0, 0, 0, 1, 0, 1, 3, 0, 0, 0, 0, 0, 1, 0, 2, 0, 0, 1, 1, 0, 0, 0, 0, 2, 0, 0, 2, 3, 2, 1, 1, 1, 2, 0, 0, 1, 0, 2, 1, 0, 0, 0, 0, 1, 1, 1, 0, 0, 3, 2, 0, 0, 1, 0, 0, 2, 0, 0, 2, 0, 0, 1, 3, 1, 2, 1, 0, 0, 1, 0, 1, 2, 0, 0, 0, 3, 0, 2, 1, 0, 0, 0, 0, 0, 1, 1, 2, 2, 3, 1, 0, 0, 1, 0, 6, 1, 0, 0, 2, 1, 1, 0, 0, 0, 0, 1, 0, 3, 1, 3, 0, 2, 2, 0, 0, 3, 0, 1, 0, 0, 0, 2, 0, 1, 9, 0, 3, 0, 3, 0, 1, 0, 1, 0, 0, 2, 0, 0, 3, 1, 1, 0, 1, 0, 0, 0, 1, 0, 0, 0, 0, 0, 2, 3, 0, 0, 0, 1, 1, 1, 0, 0, 0, 0, 1, 2, 0, 1, 0, 0, 0, 0, 0, 2, 0, 0, 2, 1, 0, 0, 0, 0, 0, 0, 0, 0, 1, 0, 0, 0, 0, 3, 1, 0, 1, 1, 0, 1, 1, 0, 0, 0, 3, 0, 0, 1, 1, 0, 1, 1, 0, 1, 0, 0, 1, 1, 1, 0, 2, 2, 1, 0, 2, 0, 1, 1, 0, 0, 0, 1, 1, 0, 0, 4, 0, 0, 1, 1, 1, 1, 1, 1, 1, 0, 0, 0, 0, 0, 2, 1, 1, 0, 0, 1, 1, 0, 0, 1, 0, 0, 1, 3, 0, 0, 0, 2, 0, 4, 2, 2, 0, 0, 0, 0, 1, 0, 0, 0, 0, 0, 0, 0, 0, 0, 0, 3, 0, 0, 0, 0, 3, 0, 0, 0, 2, 2, 0, 0, 1, 1, 1, 1, 0, 0, 0, 1, 1, 0, 1, 5, 0, 1, 2, 1, 1, 1, 0, 0, 1, 0, 1, 0, 0, 0, 1, 1, 4, 1, 0, 1, 0, 1, 0, 2, 1, 1, 0, 0, 1, 1, 0, 0, 0, 0, 0, 2, 0, 1, 0, 2, 0, 2, 0, 1, 0, 0, 0, 0, 0, 1, 0, 0, 0, 0, 0, 0, 2, 0, 0, 0, 0, 2, 1, 0, 2, 1, 0, 2, 0, 0, 0, 0, 1, 3, 4, 1, 0, 0, 0, 0, 0, 2, 0, 1, 0, 0, 0, 0, 1, 2, 1, 0, 1, 0, 0, 1, 0, 1, 0, 0, 2, 0, 2, 0, 1, 0, 1, 3, 1, 1, 0, 0, 2, 0, 2, 1, 0, 0, 1, 0, 1, 1, 0, 1, 4, 3, 0, 0, 1, 1, 0, 0, 1, 0, 0, 1, 1, 4, 1, 2, 2, 1, 1, 0, 0, 0, 0, 1, 1, 0, 1, 1, 1, 3, 1, 1, 0, 1, 2, 3, 1, 0, 1, 0, 2, 1, 1, 0, 1, 0, 0, 0, 1, 0, 1, 2, 1, 1, 0, 1, 0, 1, 0, 0, 3, 0, 0, 0, 1, 0, 1, 1, 2, 2, 1, 0, 0, 0, 1, 0, 0, 0, 2, 0, 0, 3, 0, 0, 1, 0, 1, 1, 1, 2, 1, 0, 0, 0, 0, 1, 1, 5, 2, 0, 2, 1, 0, 2, 0, 0, 3, 1, 0, 0, 0, 0, 1, 3, 0, 0, 0, 0, 0, 2, 1, 1, 1, 0, 1, 1, 1, 2, 0, 1, 1, 0, 1, 0, 0, 1, 4, 1, 3, 0, 1, 0, 0, 0, 3, 0, 1, 1, 0, 0, 0, 0, 1, 2, 0, 0, 1, 0, 0, 3, 1, 0, 1, 2, 0, 0, 2, 0, 0, 1, 1, 0, 0, 1, 0, 3, 0, 0, 0, 0, 0, 0, 0, 0, 0, 0, 1, 3, 3, 0, 0, 1, 2, 0, 0, 1, 1, 3, 0, 0, 1, 0, 0, 0, 0, 1, 2, 0, 0, 0, 0, 0, 0, 1, 1, 0, 0, 1, 0, 0, 1, 0, 1, 0, 1, 0, 0, 1, 0, 0, 1, 0, 0, 1, 0, 0, 0, 0, 0, 0, 4, 1, 2, 0, 0, 1, 1, 1, 2]\n"
     ]
    }
   ],
   "source": [
    "terms_max = 1000\n",
    "print(\"The maximum entry of B is \" + str(max(b_list)) + \".\")\n",
    "print(\"The first \" + str(terms_max) + \" terms of B are \" + str(b_list[:terms_max]))"
   ]
  },
  {
   "cell_type": "markdown",
   "id": "ba154b3e",
   "metadata": {},
   "source": [
    "### Reconstructs the target value of interest"
   ]
  },
  {
   "cell_type": "code",
   "execution_count": 8,
   "id": "0bfa39a8",
   "metadata": {},
   "outputs": [
    {
     "name": "stdout",
     "output_type": "stream",
     "text": [
      "2.7182818284590452353602874713526624977572470936999595749669676277240766303535475945713821785251664274274663919320030599218174135966290435729003342952605956307381323286279434907632338298807531952510190115738341879307021540891499348841675092447614606680822648001684774118537423454424371075390777449920695517027618386062613313845830007520449338265602976067371132007093287091274437470472306969772093101416928368190255151086574637721112523897844250569536967707854499699679468644549059879316368892297882319\n",
      "0.0\n"
     ]
    }
   ],
   "source": [
    "num_est = mp.mpmathify('0.' + '0' * places)\n",
    "\n",
    "j = 0\n",
    "while j < len(b_list):\n",
    "    if j == 0:\n",
    "        num_est = TanhCF.func(b_list[-1])\n",
    "    else:\n",
    "        num_est = mp.fadd(b_list[-j - 1], CF.func(num_est))\n",
    "    \n",
    "    j += 1\n",
    "    \n",
    "# prints the reconstruction\n",
    "print(num_est)\n",
    "# prints the error between the target value and its reconstruction through the continued \n",
    "# exponential-negative expansion\n",
    "print(mp.fabs(mp.fsub(num_est, r)))"
   ]
  },
  {
   "cell_type": "code",
   "execution_count": null,
   "id": "c23d82ac",
   "metadata": {},
   "outputs": [],
   "source": []
  }
 ],
 "metadata": {
  "kernelspec": {
   "display_name": "ContFunc",
   "language": "python",
   "name": "contfunc"
  },
  "language_info": {
   "codemirror_mode": {
    "name": "ipython",
    "version": 3
   },
   "file_extension": ".py",
   "mimetype": "text/x-python",
   "name": "python",
   "nbconvert_exporter": "python",
   "pygments_lexer": "ipython3",
   "version": "3.13.2"
  }
 },
 "nbformat": 4,
 "nbformat_minor": 5
}
