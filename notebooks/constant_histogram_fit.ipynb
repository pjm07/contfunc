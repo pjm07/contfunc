{
 "cells": [
  {
   "cell_type": "code",
   "execution_count": 1,
   "id": "d24c4bfa",
   "metadata": {},
   "outputs": [
    {
     "name": "stderr",
     "output_type": "stream",
     "text": [
      "In C:\\Users\\pjmil\\anaconda3\\lib\\site-packages\\matplotlib\\mpl-data\\stylelib\\_classic_test.mplstyle: \n",
      "The text.latex.preview rcparam was deprecated in Matplotlib 3.3 and will be removed two minor releases later.\n",
      "In C:\\Users\\pjmil\\anaconda3\\lib\\site-packages\\matplotlib\\mpl-data\\stylelib\\_classic_test.mplstyle: \n",
      "The mathtext.fallback_to_cm rcparam was deprecated in Matplotlib 3.3 and will be removed two minor releases later.\n",
      "In C:\\Users\\pjmil\\anaconda3\\lib\\site-packages\\matplotlib\\mpl-data\\stylelib\\_classic_test.mplstyle: Support for setting the 'mathtext.fallback_to_cm' rcParam is deprecated since 3.3 and will be removed two minor releases later; use 'mathtext.fallback : 'cm' instead.\n",
      "In C:\\Users\\pjmil\\anaconda3\\lib\\site-packages\\matplotlib\\mpl-data\\stylelib\\_classic_test.mplstyle: \n",
      "The validate_bool_maybe_none function was deprecated in Matplotlib 3.3 and will be removed two minor releases later.\n",
      "In C:\\Users\\pjmil\\anaconda3\\lib\\site-packages\\matplotlib\\mpl-data\\stylelib\\_classic_test.mplstyle: \n",
      "The savefig.jpeg_quality rcparam was deprecated in Matplotlib 3.3 and will be removed two minor releases later.\n",
      "In C:\\Users\\pjmil\\anaconda3\\lib\\site-packages\\matplotlib\\mpl-data\\stylelib\\_classic_test.mplstyle: \n",
      "The keymap.all_axes rcparam was deprecated in Matplotlib 3.3 and will be removed two minor releases later.\n",
      "In C:\\Users\\pjmil\\anaconda3\\lib\\site-packages\\matplotlib\\mpl-data\\stylelib\\_classic_test.mplstyle: \n",
      "The animation.avconv_path rcparam was deprecated in Matplotlib 3.3 and will be removed two minor releases later.\n",
      "In C:\\Users\\pjmil\\anaconda3\\lib\\site-packages\\matplotlib\\mpl-data\\stylelib\\_classic_test.mplstyle: \n",
      "The animation.avconv_args rcparam was deprecated in Matplotlib 3.3 and will be removed two minor releases later.\n"
     ]
    }
   ],
   "source": [
    "import matplotlib.pyplot as plt\n",
    "import numpy as np\n",
    "import os\n",
    "from scipy.optimize import curve_fit\n",
    "import time\n",
    "%matplotlib inline"
   ]
  },
  {
   "cell_type": "code",
   "execution_count": 2,
   "id": "d08af1dd",
   "metadata": {},
   "outputs": [],
   "source": [
    "# fig_cluster, ax_cluster = plt.subplots(1, 1, tight_layout=True, figsize=(8, 3))\n",
    "\n",
    "# Upsilon_pi_array = [15.2180398, 2.52076579, 1.45350005, 1.4211961, 1.42800967, \n",
    "#                 1.45708777, 1.44332462, 1.4558449, 1.4446084, 1.43328679, \n",
    "#                 1.43071976, 1.42978011, 1.43138253, 1.43166573]\n",
    "# Upsilon_pi_error_array = [8.25826619e+03, 1.38437557e-01, 4.68806177e-02, 2.14086867e-02, \n",
    "#                         1.03825041e-02, 9.20518645e-04, 7.03274173e-04, 5.95141817e-04, \n",
    "#                         6.96877022e-04, 3.77630442e-04, 2.53927895e-04, 3.03243655e-05, \n",
    "#                         3.01836353e-05, 2.98990180e-05]\n",
    "\n",
    "# ax_cluster.errorbar(x = range(5, 15),\n",
    "#                    y = Upsilon_pi_array[4:],\n",
    "#                    yerr = Upsilon_pi_error_array[4:],\n",
    "#                     marker = 'o', markersize = 6, \n",
    "#                    ls = '')\n",
    "\n",
    "# Upsilon_gamma_array = [1.349455, 1.68608989, 1.57999369, 1.44736522, 1.4915571, 1.44296192, \n",
    "#                  1.44798927, 1.44135122, 1.44080323, 1.43234744, 1.43132771, 1.43354105, \n",
    "#                  1.4329449]\n",
    "# Upsilon_gamma_error_array = [1.93426777e-01, 9.80024646e-02, 1.25884806e-02, 1.25204310e-02,\n",
    "#                  2.85278029e-03, 2.59919281e-03, 8.73808306e-04, 8.89877931e-04,\n",
    "#                  3.52616668e-04, 1.28382028e-04, 7.40333997e-05, 7.24066842e-05,\n",
    "#                  3.80721833e-05]\n",
    "\n",
    "# ax_cluster.errorbar(x = range(6, 15),\n",
    "#                    y = Upsilon_gamma_array[4:],\n",
    "#                    yerr = Upsilon_gamma_error_array[4:],\n",
    "#                     marker = 'o', markersize = 6, \n",
    "#                    ls = '')"
   ]
  },
  {
   "cell_type": "code",
   "execution_count": 3,
   "id": "6e20bc58",
   "metadata": {},
   "outputs": [],
   "source": [
    "# digits = list(map(int, open(\"iteration1_pi.txt\").read().splitlines()))\n",
    "# digits = digits[1:]\n",
    "# # print(digits[0:100])"
   ]
  },
  {
   "cell_type": "code",
   "execution_count": 4,
   "id": "46b2cb11",
   "metadata": {},
   "outputs": [],
   "source": [
    "# fit_limit = 250000\n",
    "# plot_limit = 1000"
   ]
  },
  {
   "cell_type": "code",
   "execution_count": 5,
   "id": "c999244f",
   "metadata": {},
   "outputs": [],
   "source": [
    "# t_plot_start = time.time()\n",
    "# fig, ax = plt.subplots(1, 1, tight_layout=True, figsize=(8, 3))\n",
    "# # fig = plt.figure(figsize = (8, 3))\n",
    "# N, Bins, _ = plt.hist(digits[0:fit_limit], bins = max(digits[0:fit_limit]))\n",
    "# ax.set_xscale('log')\n",
    "# ax.set_yscale('log')\n",
    "# # plt.yscale('log')\n",
    "# ax.set_xlim([1, plot_limit])\n",
    "# # plt.xlim((0, plot_limit))"
   ]
  },
  {
   "cell_type": "code",
   "execution_count": 6,
   "id": "6789376b",
   "metadata": {},
   "outputs": [],
   "source": [
    "# t_plot_end = time.time()\n",
    "# print(t_plot_end - t_plot_start)"
   ]
  },
  {
   "cell_type": "code",
   "execution_count": 7,
   "id": "c409992e",
   "metadata": {},
   "outputs": [],
   "source": [
    "# print(N)\n",
    "# print(np.rint(Bins[:-1]))"
   ]
  },
  {
   "cell_type": "code",
   "execution_count": 8,
   "id": "f3fdf2f7",
   "metadata": {},
   "outputs": [],
   "source": [
    "# print(len(Bins))\n",
    "# print(len(N))"
   ]
  },
  {
   "cell_type": "code",
   "execution_count": 9,
   "id": "0566343f",
   "metadata": {},
   "outputs": [],
   "source": [
    "# len(np.rint(Bins)) != len(set(np.rint(Bins)))"
   ]
  },
  {
   "cell_type": "code",
   "execution_count": 10,
   "id": "cc25dfb3",
   "metadata": {},
   "outputs": [],
   "source": [
    "data_cluster = np.loadtxt(\"contfract_idx_log2.txt\", skiprows = 1, usecols = (1))\n",
    "# print(data_cluster)"
   ]
  },
  {
   "cell_type": "code",
   "execution_count": 11,
   "id": "ffc1cca7",
   "metadata": {},
   "outputs": [],
   "source": [
    "# print(\"data_cluster has shape \" + str(np.shape(data_cluster)))\n",
    "# bins = data_cluster[:np.shape(data_cluster)[0] // 2]\n",
    "# print(\"bins has shape \" + str(np.shape(bins)))\n",
    "# print(\"bins = \" + str(bins))\n",
    "# hist = data_cluster[np.shape(data_cluster)[0] // 2:]\n",
    "# print(\"hist has shape \" + str(np.shape(hist)))\n",
    "# print(\"hist = \" + str(hist))"
   ]
  },
  {
   "cell_type": "code",
   "execution_count": 12,
   "id": "5fb12597",
   "metadata": {},
   "outputs": [
    {
     "name": "stdout",
     "output_type": "stream",
     "text": [
      "(963663,)\n",
      "[8304 3336 1881 ...    0    0    1]\n",
      "(963664,)\n",
      "[1.00000e+00 2.00000e+00 3.00000e+00 ... 9.63662e+05 9.63663e+05\n",
      " 9.63664e+05]\n"
     ]
    }
   ],
   "source": [
    "hist, bins = np.histogram(data_cluster, bins = int(np.max(data_cluster)) - 1)\n",
    "print(np.shape(hist))\n",
    "print(hist)\n",
    "print(np.shape(bins))\n",
    "print(bins)"
   ]
  },
  {
   "cell_type": "code",
   "execution_count": 13,
   "id": "6a74ac62",
   "metadata": {},
   "outputs": [
    {
     "data": {
      "text/plain": [
       "(0.1, 16608)"
      ]
     },
     "execution_count": 13,
     "metadata": {},
     "output_type": "execute_result"
    },
    {
     "data": {
      "image/png": "[encoded data removed]",
      "text/plain": [
       "<Figure size 576x216 with 1 Axes>"
      ]
     },
     "metadata": {
      "needs_background": "light"
     },
     "output_type": "display_data"
    }
   ],
   "source": [
    "fig, ax = plt.subplots(1, 1, tight_layout=True, figsize=(8, 3))\n",
    "# fig = plt.figure(figsize = (8, 3))\n",
    "# N, Bins, _ = plt.hist(digits[0:fit_limit], bins = max(digits[0:fit_limit]))\n",
    "ax.scatter(bins[:-1], hist)\n",
    "ax.semilogx()\n",
    "ax.semilogy()\n",
    "# ax.set_yscale('log')\n",
    "# plt.yscale('log')\n",
    "ax.set_xlim(1, 100)\n",
    "ax.set_ylim(0.1, 2 * max(hist))"
   ]
  },
  {
   "cell_type": "code",
   "execution_count": 14,
   "id": "f7c4511b",
   "metadata": {},
   "outputs": [],
   "source": [
    "def func_linear(x, P, t):\n",
    "    return P * x**(-t)\n",
    "\n",
    "def func_quad(x, C, b, a):\n",
    "    return C * x**(b) * x**(a * np.log(x))\n",
    "\n",
    "def func_exp(x, A, B):\n",
    "    return np.exp(A * x**(B))"
   ]
  },
  {
   "cell_type": "code",
   "execution_count": 15,
   "id": "a69b2ebb",
   "metadata": {},
   "outputs": [
    {
     "name": "stdout",
     "output_type": "stream",
     "text": [
      "[8.3862162e+03 1.4364816e+00]\n",
      "[4.17975659e-01 1.01910031e-04]\n"
     ]
    }
   ],
   "source": [
    "popt_linear, pcov_linear = curve_fit(func_linear, bins[:-1], hist)\n",
    "print(popt_linear)\n",
    "print(np.sqrt(np.diag(pcov_linear)))\n",
    "# popt_quad, pcov_quad = curve_fit(func_quad, np.rint(Bins[:-1]), N)\n",
    "# print(popt_quad)\n",
    "# popt_exp, pcov_exp = curve_fit(func_exp, np.rint(Bins[:-1]), N)\n",
    "# print(popt_exp)\n",
    "ax.plot(bins, func_linear(bins, *popt_linear))\n",
    "# ax.plot(np.rint(Bins[0:fit_limit]), func_quad(np.rint(Bins[0:fit_limit]), *popt_quad))\n",
    "# ax.plot(np.rint(Bins[0:fit_limit]), func_exp(np.rint(Bins[0:fit_limit]), *popt_exp))\n",
    "ax.set_ylim([10**(0), 10**(5)])\n",
    "fig.figure"
   ]
  },
  {
   "cell_type": "markdown",
   "id": "3650f939",
   "metadata": {},
   "source": [
    "Read in data for values of $\\Upsilon$ and histogram"
   ]
  },
  {
   "cell_type": "code",
   "execution_count": 16,
   "id": "507fc269",
   "metadata": {},
   "outputs": [],
   "source": [
    "pi_Ups = []\n",
    "pi_Ups_var = []\n",
    "gamma_Ups = []\n",
    "gamma_Ups_var = []\n",
    "apery_Ups = 1.43101328\n",
    "log2_Ups = 1.4364816\n",
    "vertline_Ups = [apery_Ups, log2_Ups]\n",
    "\n",
    "for i in range(1, 93):\n",
    "    try:\n",
    "        if i < 10:\n",
    "            file = open(\"pi_fit_it0\" + str(i) + \".txt\")\n",
    "        else:\n",
    "            file = open(\"pi_fit_it\" + str(i) + \".txt\")\n",
    "        \n",
    "        [Ups, var] = list(map(np.float64, file.read().splitlines()))\n",
    "        pi_Ups.append(Ups)\n",
    "        pi_Ups_var.append(var)\n",
    "        file.close()\n",
    "    except:\n",
    "        pass\n",
    "\n",
    "for i in range(1, 42):\n",
    "    try:\n",
    "        if i < 10:\n",
    "            file = open(\"gamma_fit_it0\" + str(i) + \".txt\")\n",
    "        else:\n",
    "            file = open(\"gamma_fit_it\" + str(i) + \".txt\")\n",
    "        \n",
    "        [Ups, var] = list(map(np.float64, file.read().splitlines()))\n",
    "        gamma_Ups.append(Ups)\n",
    "        gamma_Ups_var.append(var)\n",
    "        file.close()\n",
    "    except:\n",
    "        pass"
   ]
  },
  {
   "cell_type": "code",
   "execution_count": 17,
   "id": "a3c38c45",
   "metadata": {},
   "outputs": [
    {
     "name": "stdout",
     "output_type": "stream",
     "text": [
      "pi mean: 1.43174\n",
      "pi mean standard error: 1.0976512472934599e-05\n",
      "gamma mean: 1.43174\n",
      "gamma mean standard error: 1.4075458234792594e-05\n"
     ]
    },
    {
     "data": {
      "image/png": "[encoded data removed]",
      "text/plain": [
       "<Figure size 720x540 with 1 Axes>"
      ]
     },
     "metadata": {
      "needs_background": "light"
     },
     "output_type": "display_data"
    }
   ],
   "source": [
    "import matplotlib.pyplot as plt\n",
    "import numpy as np\n",
    "\n",
    "fig, axes = plt.subplots(nrows=1, ncols=1, figsize = (10, 7.5))\n",
    "\n",
    "constants_list = [\"pi\", \"gamma\"]\n",
    "hist_labels_dict = {\"pi\" : r'$\\pi$', \"gamma\" : r'$\\gamma$'}\n",
    "hist_colors_dict = {\"pi\" : \"lightgreen\", \"gamma\" : \"orange\",\n",
    "                   \"apery\" : \"lightskyblue\", \"log2\" : \"yellow\"}\n",
    "vertline_list = [\"apery\", \"log2\"]\n",
    "vertline_vals_dict = {\"apery\" : 1.43101328, \"log2\" : 1.4364816}\n",
    "vertline_mse_dict = {\"apery\" : 2.66965761e-04, \"log2\" : 1.01910031e-04}\n",
    "vertline_labels_dict = {\"apery\" : r'$\\zeta(3)$', \"log2\" : r'ln(2)', \n",
    "                       \"pi\" : r'$\\pi$ (avg.)', \"gamma\" : r'$\\gamma$ (avg.)'}\n",
    "vertline_colors_dict = {\"apery\" : \"royalblue\", \"log2\" : \"gold\", \n",
    "                       \"pi\" : \"seagreen\", \"gamma\" : \"darkorange\"}\n",
    "\n",
    "hist_bins = np.arange(1.43160, 1.432, 0.00002)\n",
    "\n",
    "hist_data = []\n",
    "hist_data.append(pi_Ups)\n",
    "hist_data.append(gamma_Ups)\n",
    "hist_data_error = []\n",
    "hist_data_error.append(pi_Ups_var)\n",
    "hist_data_error.append(gamma_Ups_var)\n",
    "\n",
    "all_data = []\n",
    "all_data_error = []\n",
    "for (l, l_err) in zip(hist_data, hist_data_error):\n",
    "    all_data.extend(l)\n",
    "    all_data_error.extend(l_err)\n",
    "\n",
    "for (const, dat, err) in zip(constants_list, hist_data, hist_data_error):\n",
    "    axes.hist(dat, \n",
    "            hist_bins, \n",
    "            histtype='bar', \n",
    "            stacked=False, \n",
    "            label = hist_labels_dict[const], \n",
    "            color = hist_colors_dict[const], \n",
    "            alpha = 0.5)\n",
    "    \n",
    "    mean = np.around(np.average(dat, weights = np.array(err)**(-2)), \n",
    "                     decimals = 5)\n",
    "    print(const + \" mean: \" + str(mean))\n",
    "    vertline_vals_dict[const] = mean\n",
    "    \n",
    "    mse = np.std(dat, ddof=1) / np.sqrt(len(dat))\n",
    "    print(const + \" mean standard error: \" + str(mse))\n",
    "    vertline_mse_dict[const] = mse\n",
    "\n",
    "for l in constants_list + vertline_list:\n",
    "    axes.axvspan(vertline_vals_dict[l] - vertline_mse_dict[l], \n",
    "                vertline_vals_dict[l] + vertline_mse_dict[l], \n",
    "                color = hist_colors_dict[l], \n",
    "                alpha = 0.5)\n",
    "    axes.axvline(vertline_vals_dict[l],\n",
    "                 label = vertline_labels_dict[l], \n",
    "                 color = vertline_colors_dict[l])\n",
    "\n",
    "axes.set_xticks(np.arange(1.431, 1.432, 0.0001))\n",
    "axes.set_xlim(np.min(hist_bins), np.max(hist_bins))\n",
    "axes.set_ylim(0, 11)\n",
    "\n",
    "axes.legend()\n",
    "\n",
    "fig.tight_layout()\n",
    "plt.show()"
   ]
  },
  {
   "cell_type": "code",
   "execution_count": 18,
   "id": "3fa6707c",
   "metadata": {},
   "outputs": [
    {
     "name": "stdout",
     "output_type": "stream",
     "text": [
      "Upsilon = 1.431739 +/- 8.873156472790697e-06\n"
     ]
    }
   ],
   "source": [
    "Upsilon = np.around(np.average(all_data,\n",
    "                        weights = (np.array(all_data_error))**(-2)),     \n",
    "        decimals = 6\n",
    "        )\n",
    "Upsilon_mse = np.std(all_data, ddof=1) / np.sqrt(len(all_data))\n",
    "print(\"Upsilon = \" + str(Upsilon) + \" +/- \" + str(Upsilon_mse))"
   ]
  },
  {
   "cell_type": "code",
   "execution_count": null,
   "id": "4763ad88",
   "metadata": {},
   "outputs": [],
   "source": []
  }
 ],
 "metadata": {
  "kernelspec": {
   "display_name": "Python 3 (ipykernel)",
   "language": "python",
   "name": "python3"
  },
  "language_info": {
   "codemirror_mode": {
    "name": "ipython",
    "version": 3
   },
   "file_extension": ".py",
   "mimetype": "text/x-python",
   "name": "python",
   "nbconvert_exporter": "python",
   "pygments_lexer": "ipython3",
   "version": "3.8.13"
  }
 },
 "nbformat": 4,
 "nbformat_minor": 5
}
