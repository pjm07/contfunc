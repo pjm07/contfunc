{
 "cells": [
  {
   "cell_type": "code",
   "execution_count": 1,
   "id": "d24c4bfa",
   "metadata": {},
   "outputs": [
    {
     "name": "stderr",
     "output_type": "stream",
     "text": [
      "In C:\\Users\\pjmil\\anaconda3\\lib\\site-packages\\matplotlib\\mpl-data\\stylelib\\_classic_test.mplstyle: \n",
      "The text.latex.preview rcparam was deprecated in Matplotlib 3.3 and will be removed two minor releases later.\n",
      "In C:\\Users\\pjmil\\anaconda3\\lib\\site-packages\\matplotlib\\mpl-data\\stylelib\\_classic_test.mplstyle: \n",
      "The mathtext.fallback_to_cm rcparam was deprecated in Matplotlib 3.3 and will be removed two minor releases later.\n",
      "In C:\\Users\\pjmil\\anaconda3\\lib\\site-packages\\matplotlib\\mpl-data\\stylelib\\_classic_test.mplstyle: Support for setting the 'mathtext.fallback_to_cm' rcParam is deprecated since 3.3 and will be removed two minor releases later; use 'mathtext.fallback : 'cm' instead.\n",
      "In C:\\Users\\pjmil\\anaconda3\\lib\\site-packages\\matplotlib\\mpl-data\\stylelib\\_classic_test.mplstyle: \n",
      "The validate_bool_maybe_none function was deprecated in Matplotlib 3.3 and will be removed two minor releases later.\n",
      "In C:\\Users\\pjmil\\anaconda3\\lib\\site-packages\\matplotlib\\mpl-data\\stylelib\\_classic_test.mplstyle: \n",
      "The savefig.jpeg_quality rcparam was deprecated in Matplotlib 3.3 and will be removed two minor releases later.\n",
      "In C:\\Users\\pjmil\\anaconda3\\lib\\site-packages\\matplotlib\\mpl-data\\stylelib\\_classic_test.mplstyle: \n",
      "The keymap.all_axes rcparam was deprecated in Matplotlib 3.3 and will be removed two minor releases later.\n",
      "In C:\\Users\\pjmil\\anaconda3\\lib\\site-packages\\matplotlib\\mpl-data\\stylelib\\_classic_test.mplstyle: \n",
      "The animation.avconv_path rcparam was deprecated in Matplotlib 3.3 and will be removed two minor releases later.\n",
      "In C:\\Users\\pjmil\\anaconda3\\lib\\site-packages\\matplotlib\\mpl-data\\stylelib\\_classic_test.mplstyle: \n",
      "The animation.avconv_args rcparam was deprecated in Matplotlib 3.3 and will be removed two minor releases later.\n"
     ]
    }
   ],
   "source": [
    "import matplotlib.pyplot as plt\n",
    "import numpy as np\n",
    "import os\n",
    "from scipy.optimize import curve_fit\n",
    "import time\n",
    "%matplotlib inline"
   ]
  },
  {
   "cell_type": "code",
   "execution_count": 2,
   "id": "d08af1dd",
   "metadata": {},
   "outputs": [],
   "source": [
    "# fig_cluster, ax_cluster = plt.subplots(1, 1, tight_layout=True, figsize=(8, 3))\n",
    "\n",
    "# Upsilon_pi_array = [15.2180398, 2.52076579, 1.45350005, 1.4211961, 1.42800967, \n",
    "#                 1.45708777, 1.44332462, 1.4558449, 1.4446084, 1.43328679, \n",
    "#                 1.43071976, 1.42978011, 1.43138253, 1.43166573]\n",
    "# Upsilon_pi_error_array = [8.25826619e+03, 1.38437557e-01, 4.68806177e-02, 2.14086867e-02, \n",
    "#                         1.03825041e-02, 9.20518645e-04, 7.03274173e-04, 5.95141817e-04, \n",
    "#                         6.96877022e-04, 3.77630442e-04, 2.53927895e-04, 3.03243655e-05, \n",
    "#                         3.01836353e-05, 2.98990180e-05]\n",
    "\n",
    "# ax_cluster.errorbar(x = range(5, 15),\n",
    "#                    y = Upsilon_pi_array[4:],\n",
    "#                    yerr = Upsilon_pi_error_array[4:],\n",
    "#                     marker = 'o', markersize = 6, \n",
    "#                    ls = '')\n",
    "\n",
    "# Upsilon_gamma_array = [1.349455, 1.68608989, 1.57999369, 1.44736522, 1.4915571, 1.44296192, \n",
    "#                  1.44798927, 1.44135122, 1.44080323, 1.43234744, 1.43132771, 1.43354105, \n",
    "#                  1.4329449]\n",
    "# Upsilon_gamma_error_array = [1.93426777e-01, 9.80024646e-02, 1.25884806e-02, 1.25204310e-02,\n",
    "#                  2.85278029e-03, 2.59919281e-03, 8.73808306e-04, 8.89877931e-04,\n",
    "#                  3.52616668e-04, 1.28382028e-04, 7.40333997e-05, 7.24066842e-05,\n",
    "#                  3.80721833e-05]\n",
    "\n",
    "# ax_cluster.errorbar(x = range(6, 15),\n",
    "#                    y = Upsilon_gamma_array[4:],\n",
    "#                    yerr = Upsilon_gamma_error_array[4:],\n",
    "#                     marker = 'o', markersize = 6, \n",
    "#                    ls = '')"
   ]
  },
  {
   "cell_type": "code",
   "execution_count": 3,
   "id": "6e20bc58",
   "metadata": {},
   "outputs": [],
   "source": [
    "# digits = list(map(int, open(\"iteration1_pi.txt\").read().splitlines()))\n",
    "# digits = digits[1:]\n",
    "# # print(digits[0:100])"
   ]
  },
  {
   "cell_type": "code",
   "execution_count": 4,
   "id": "46b2cb11",
   "metadata": {},
   "outputs": [],
   "source": [
    "# fit_limit = 250000\n",
    "# plot_limit = 1000"
   ]
  },
  {
   "cell_type": "code",
   "execution_count": 5,
   "id": "c999244f",
   "metadata": {},
   "outputs": [],
   "source": [
    "# t_plot_start = time.time()\n",
    "# fig, ax = plt.subplots(1, 1, tight_layout=True, figsize=(8, 3))\n",
    "# # fig = plt.figure(figsize = (8, 3))\n",
    "# N, Bins, _ = plt.hist(digits[0:fit_limit], bins = max(digits[0:fit_limit]))\n",
    "# ax.set_xscale('log')\n",
    "# ax.set_yscale('log')\n",
    "# # plt.yscale('log')\n",
    "# ax.set_xlim([1, plot_limit])\n",
    "# # plt.xlim((0, plot_limit))"
   ]
  },
  {
   "cell_type": "code",
   "execution_count": 6,
   "id": "6789376b",
   "metadata": {},
   "outputs": [],
   "source": [
    "# t_plot_end = time.time()\n",
    "# print(t_plot_end - t_plot_start)"
   ]
  },
  {
   "cell_type": "code",
   "execution_count": 7,
   "id": "c409992e",
   "metadata": {},
   "outputs": [],
   "source": [
    "# print(N)\n",
    "# print(np.rint(Bins[:-1]))"
   ]
  },
  {
   "cell_type": "code",
   "execution_count": 8,
   "id": "f3fdf2f7",
   "metadata": {},
   "outputs": [],
   "source": [
    "# print(len(Bins))\n",
    "# print(len(N))"
   ]
  },
  {
   "cell_type": "code",
   "execution_count": 9,
   "id": "0566343f",
   "metadata": {},
   "outputs": [],
   "source": [
    "# len(np.rint(Bins)) != len(set(np.rint(Bins)))"
   ]
  },
  {
   "cell_type": "code",
   "execution_count": 10,
   "id": "cc25dfb3",
   "metadata": {},
   "outputs": [],
   "source": [
    "data_cluster = np.loadtxt(\"contfract_idx_apery.txt\", skiprows = 1, usecols = (1))\n",
    "# print(data_cluster)"
   ]
  },
  {
   "cell_type": "code",
   "execution_count": 11,
   "id": "ffc1cca7",
   "metadata": {},
   "outputs": [],
   "source": [
    "# print(\"data_cluster has shape \" + str(np.shape(data_cluster)))\n",
    "# bins = data_cluster[:np.shape(data_cluster)[0] // 2]\n",
    "# print(\"bins has shape \" + str(np.shape(bins)))\n",
    "# print(\"bins = \" + str(bins))\n",
    "# hist = data_cluster[np.shape(data_cluster)[0] // 2:]\n",
    "# print(\"hist has shape \" + str(np.shape(hist)))\n",
    "# print(\"hist = \" + str(hist))"
   ]
  },
  {
   "cell_type": "code",
   "execution_count": 12,
   "id": "5fb12597",
   "metadata": {},
   "outputs": [
    {
     "name": "stdout",
     "output_type": "stream",
     "text": [
      "(162049,)\n",
      "[8320 3377 1882 ...    0    0    1]\n",
      "(162050,)\n",
      "[1.00000e+00 2.00000e+00 3.00000e+00 ... 1.62048e+05 1.62049e+05\n",
      " 1.62050e+05]\n"
     ]
    }
   ],
   "source": [
    "hist, bins = np.histogram(data_cluster, bins = int(np.max(data_cluster)) - 1)\n",
    "print(np.shape(hist))\n",
    "print(hist)\n",
    "print(np.shape(bins))\n",
    "print(bins)"
   ]
  },
  {
   "cell_type": "code",
   "execution_count": 13,
   "id": "6a74ac62",
   "metadata": {},
   "outputs": [
    {
     "data": {
      "text/plain": [
       "(0.1, 16640)"
      ]
     },
     "execution_count": 13,
     "metadata": {},
     "output_type": "execute_result"
    },
    {
     "data": {
      "image/png": "[encoded data removed]",
      "text/plain": [
       "<Figure size 576x216 with 1 Axes>"
      ]
     },
     "metadata": {
      "needs_background": "light"
     },
     "output_type": "display_data"
    }
   ],
   "source": [
    "fig, ax = plt.subplots(1, 1, tight_layout=True, figsize=(8, 3))\n",
    "# fig = plt.figure(figsize = (8, 3))\n",
    "# N, Bins, _ = plt.hist(digits[0:fit_limit], bins = max(digits[0:fit_limit]))\n",
    "ax.scatter(bins[:-1], hist)\n",
    "ax.semilogx()\n",
    "ax.semilogy()\n",
    "# ax.set_yscale('log')\n",
    "# plt.yscale('log')\n",
    "ax.set_xlim(1, 100)\n",
    "ax.set_ylim(0.1, 2 * max(hist))"
   ]
  },
  {
   "cell_type": "code",
   "execution_count": 14,
   "id": "f7c4511b",
   "metadata": {},
   "outputs": [],
   "source": [
    "def func_linear(x, P, t):\n",
    "    return P * x**(-t)\n",
    "\n",
    "def func_quad(x, C, b, a):\n",
    "    return C * x**(b) * x**(a * np.log(x))\n",
    "\n",
    "def func_exp(x, A, B):\n",
    "    return np.exp(A * x**(B))"
   ]
  },
  {
   "cell_type": "code",
   "execution_count": 15,
   "id": "a69b2ebb",
   "metadata": {},
   "outputs": [
    {
     "name": "stdout",
     "output_type": "stream",
     "text": [
      "[8.40945194e+03 1.43101328e+00]\n"
     ]
    }
   ],
   "source": [
    "popt_linear, pcov_linear = curve_fit(func_linear, bins[:-1], hist)\n",
    "print(popt_linear)\n",
    "# popt_quad, pcov_quad = curve_fit(func_quad, np.rint(Bins[:-1]), N)\n",
    "# print(popt_quad)\n",
    "# popt_exp, pcov_exp = curve_fit(func_exp, np.rint(Bins[:-1]), N)\n",
    "# print(popt_exp)\n",
    "ax.plot(bins, func_linear(bins, *popt_linear))\n",
    "# ax.plot(np.rint(Bins[0:fit_limit]), func_quad(np.rint(Bins[0:fit_limit]), *popt_quad))\n",
    "# ax.plot(np.rint(Bins[0:fit_limit]), func_exp(np.rint(Bins[0:fit_limit]), *popt_exp))\n",
    "ax.set_ylim([10**(0), 10**(5)])\n",
    "fig.figure"
   ]
  },
  {
   "cell_type": "markdown",
   "id": "3650f939",
   "metadata": {},
   "source": [
    "Read in data for values of $\\Upsilon$ and histogram"
   ]
  },
  {
   "cell_type": "code",
   "execution_count": 16,
   "id": "507fc269",
   "metadata": {},
   "outputs": [
    {
     "name": "stdout",
     "output_type": "stream",
     "text": [
      "[1.431574938792727, 1.4317134626252588, 1.4317716673837833, 1.4317730606265844, 1.4317063997114219, 1.4317551069540364, 1.4316909780839726, 1.4316145522403279, 1.4318706447129692, 1.4317634488324043, 1.431525347046889, 1.4316595648890544, 1.4318194341928234, 1.431794660897076, 1.431828406501585, 1.43172948164273, 1.4316582556146344, 1.4316666860563625, 1.4317984552892697, 1.4317476036790693, 1.4315210175292343, 1.431731960827316, 1.4316509359942031, 1.4317954971179623, 1.4319093569717034, 1.4317541332884216, 1.4316727679821848, 1.4318083337699243, 1.4316371442979925, 1.4318682629715294, 1.4317324111960175, 1.4317981715197856, 1.4316228380756997, 1.4317789154206524, 1.4318539104948995, 1.4317548979397443, 1.431687657208566, 1.431648927220619, 1.4315777479730822, 1.4316957012120757, 1.4319235859912183, 1.431669278742055, 1.4317501419281147, 1.4318005044885591, 1.4316530683132134, 1.4316887948533605]\n",
      "[3.357962388985873e-06, 9.39818309274699e-06, 3.4080064024986635e-06, 5.206101961876244e-06, 5.4228057980560796e-06, 5.770640408771627e-06, 1.2875110766500885e-05, 5.558731077872892e-06, 6.735667649913801e-06, 9.510884455696734e-06, 3.4174586754417578e-06, 3.537267609221182e-06, 4.788399356669622e-06, 6.3912152067131325e-06, 6.192455862625487e-06, 8.425238819323878e-06, 6.494138752494527e-06, 9.18635275912671e-06, 1.186492080142956e-05, 8.344787011180863e-06, 5.883168885921818e-06, 4.4600096469267575e-06, 7.2736261005159146e-06, 3.621765489867958e-06, 6.271157910508419e-06, 7.381166230037989e-06, 3.4092003250430557e-06, 4.282620332951951e-06, 5.092867241268384e-06, 3.6605868150117436e-06, 4.467450916515783e-06, 5.892879303823086e-06, 6.572620186918492e-06, 3.0040598922746245e-06, 4.433967063842028e-06, 5.4373042641223165e-06, 2.9091251755793517e-06, 3.716803034157605e-06, 1.1752971536760062e-05, 7.144510888075107e-06, 3.5888361119159396e-06, 8.31857262954412e-06, 4.71810358802303e-06, 2.8098584203644316e-06, 4.00854332146105e-06, 6.841852312317254e-06]\n",
      "[1.4318068890191895, 1.431797133599166, 1.4317885331820617, 1.4317728448320195, 1.4316543930048997, 1.4318030232762073]\n"
     ]
    }
   ],
   "source": [
    "pi_Ups = []\n",
    "pi_Ups_var = []\n",
    "gamma_Ups = []\n",
    "gamma_Ups_var = []\n",
    "apery_Ups = 1.43101328\n",
    "log2_Ups = 1.4364816\n",
    "vertline_Ups = [apery_Ups, log2_Ups]\n",
    "\n",
    "for i in range(1, 93):\n",
    "    try:\n",
    "        if i < 10:\n",
    "            file = open(\"pi_fit_it0\" + str(i) + \".txt\")\n",
    "        else:\n",
    "            file = open(\"pi_fit_it\" + str(i) + \".txt\")\n",
    "        \n",
    "        [Ups, var] = list(map(np.float64, file.read().splitlines()))\n",
    "        pi_Ups.append(Ups)\n",
    "        pi_Ups_var.append(var)\n",
    "        file.close()\n",
    "    except:\n",
    "        pass\n",
    "    \n",
    "print(pi_Ups)\n",
    "print(pi_Ups_var)\n",
    "\n",
    "for i in range(1, 42):\n",
    "    try:\n",
    "        if i < 10:\n",
    "            file = open(\"gamma_fit_it0\" + str(i) + \".txt\")\n",
    "        else:\n",
    "            file = open(\"gamma_fit_it\" + str(i) + \".txt\")\n",
    "        \n",
    "        [Ups, var] = list(map(np.float64, file.read().splitlines()))\n",
    "        gamma_Ups.append(Ups)\n",
    "        gamma_Ups_var.append(var)\n",
    "        file.close()\n",
    "    except:\n",
    "        pass\n",
    "    \n",
    "print(gamma_Ups)"
   ]
  },
  {
   "cell_type": "code",
   "execution_count": 20,
   "id": "a3c38c45",
   "metadata": {},
   "outputs": [
    {
     "name": "stdout",
     "output_type": "stream",
     "text": [
      "pi mean: 1.4317302\n",
      "gamma mean: 1.4317646\n"
     ]
    },
    {
     "data": {
      "image/png": "[encoded data removed]",
      "text/plain": [
       "<Figure size 432x288 with 1 Axes>"
      ]
     },
     "metadata": {
      "needs_background": "light"
     },
     "output_type": "display_data"
    }
   ],
   "source": [
    "import matplotlib.pyplot as plt\n",
    "import numpy as np\n",
    "\n",
    "fig, axes = plt.subplots(nrows=1, ncols=1)\n",
    "\n",
    "constants_list = [\"pi\", \"gamma\"]\n",
    "hist_labels_dict = {\"pi\" : r'$\\pi$', \"gamma\" : r'$\\gamma$'}\n",
    "hist_colors_dict = {\"pi\" : \"palegreen\", \"gamma\" : \"bisque\"}\n",
    "vertline_list = [\"apery\"]\n",
    "vertline_vals_dict = {\"apery\" : 1.43101328, \"log2\" : 1.4364816}\n",
    "vertline_labels_dict = {\"apery\" : r'$\\zeta(3)$', \"log2\" : r'ln(2)', \n",
    "                       \"pi\" : r'$\\pi$ (avg.)', \"gamma\" : r'$\\gamma$ (avg.)'}\n",
    "vertline_colors_dict = {\"apery\" : \"royalblue\", \"log2\" : \"gold\", \n",
    "                       \"pi\" : \"seagreen\", \"gamma\" : \"darkorange\"}\n",
    "\n",
    "hist_bins = np.arange(1.43160, 1.432, 0.00002)\n",
    "\n",
    "hist_data = []\n",
    "hist_data.append(pi_Ups)\n",
    "hist_data.append(gamma_Ups)\n",
    "hist_data_error = []\n",
    "hist_data_error.append(pi_Ups_var)\n",
    "hist_data_error.append(gamma_Ups_var)\n",
    "\n",
    "axes.hist(hist_data[0], \n",
    "        hist_bins, \n",
    "        histtype='bar', \n",
    "        stacked=False, \n",
    "        label = [hist_labels_dict[l] for l in [\"pi\"]], \n",
    "        color = [hist_colors_dict[l] for l in [\"pi\"]])\n",
    "axes.hist(hist_data[1], \n",
    "        hist_bins, \n",
    "        histtype='bar', \n",
    "        stacked=False, \n",
    "        label = [hist_labels_dict[l] for l in [\"gamma\"]], \n",
    "        color = [hist_colors_dict[l] for l in [\"gamma\"]])\n",
    "\n",
    "for (const, dat, err) in zip(constants_list, hist_data, hist_data_error):\n",
    "    mean = np.around(np.average(dat, weights = np.array(err)**(-2)), \n",
    "                     decimals = 7)\n",
    "    print(const + \" mean: \" + str(mean))\n",
    "    vertline_vals_dict[const] = mean\n",
    "\n",
    "for l in constants_list + vertline_list:\n",
    "    axes.axvline(vertline_vals_dict[l],\n",
    "                 label = vertline_labels_dict[l], color = vertline_colors_dict[l])\n",
    "\n",
    "axes.set_xticks(np.arange(1.431, 1.432, 0.0001))\n",
    "axes.set_ylim(0, 8)\n",
    "\n",
    "axes.legend()\n",
    "\n",
    "fig.tight_layout()\n",
    "plt.show()"
   ]
  },
  {
   "cell_type": "code",
   "execution_count": null,
   "id": "3fa6707c",
   "metadata": {},
   "outputs": [],
   "source": []
  }
 ],
 "metadata": {
  "kernelspec": {
   "display_name": "Python 3 (ipykernel)",
   "language": "python",
   "name": "python3"
  },
  "language_info": {
   "codemirror_mode": {
    "name": "ipython",
    "version": 3
   },
   "file_extension": ".py",
   "mimetype": "text/x-python",
   "name": "python",
   "nbconvert_exporter": "python",
   "pygments_lexer": "ipython3",
   "version": "3.8.13"
  }
 },
 "nbformat": 4,
 "nbformat_minor": 5
}
