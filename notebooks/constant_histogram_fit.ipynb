{
 "cells": [
  {
   "cell_type": "markdown",
   "id": "b4bc1f8b",
   "metadata": {},
   "source": [
    "# Project $\\Upsilon$"
   ]
  },
  {
   "cell_type": "markdown",
   "id": "0f42e71c",
   "metadata": {},
   "source": [
    "The goal of Project $\\Upsilon$ (and of this notebook in particular) is to learn about the statistical properties of the simple continued-fraction expansion of fundamental mathematical constants of nature.\n",
    "\n",
    "Any real number $r$ can be expressed a simple continued fraction, which takes the general form \n",
    "$r=a_{0}+\\frac{1}{a_{1}+\\frac{1}{a_{2}+\\frac{1}{a_{3}+\\frac{1}{a_{4}+\\cdots}}}}$.\n",
    "Here, the series $A = \\{a_{0}; a_{1}, a_{2}, a_{3}, a_{4}, \\cdots$ contains the _digits_ of the simple continued-fraction expansion of $r$, all of which are natural numbers in the **simple** continued fraction expansion.\n",
    "($a_{0}$, the whole-number part of $r$ is followed by a semicolon because it is only debatably part of a number's canonical continued-fraction expansion.\n",
    "We exclude it from the fitting procedure everywhere in this library.)\n",
    "\n",
    "$A$ is finite for rational numbers but infinite for irrational numbers.\n",
    "A subset of the irrational numbers--roots with degree greater than 2, logarithms, and transcendental constants--have especially interesting non-periodic, _seemingly_ random continued-fraction expansions.\n",
    "It is on this latter group that we focus in the Upsilon library\n",
    "In particular we concentrate on mathematical constants that crop up in physics since these are in some sense fundamental constants of our universe, having applications beyond pure mathematics without being a physical constant such as the speed of light whose value is dependent on the system of units used to describe it and not numerically determined.\n",
    "\n",
    "Our goal is to learn just how regular the seemingly random digits of these constants' simple continued-fraction expansions really are.\n",
    "Currently, we conduct a rigorous fitting procedure and draw conclusions only about the circle constant $\\pi$ (\"pi\") and the Euler-Mascheroni constant $\\gamma$ (\"gamma\").\n",
    "Information on these constants' simple continued-fraction expansions can be found at [A001203](https://oeis.org/A001203) and [A002852](https://oeis.org/A002852), respectively.\n",
    "In due course we aim to apply the same mode of analysis to other important constants like these two, such as Apery's constant $\\zeta(3)$ (\"apery\") and $\\log(2)$ (both of which are implemented for a very limited data set) as well as Catalan's constant $G$ (\"catalan\"), and Feigenbaum's constants $\\alpha$ and $\\delta$ (\"alpha\" and \"delta\"), eventually once enough data is available."
   ]
  },
  {
   "cell_type": "markdown",
   "id": "032f4b16",
   "metadata": {},
   "source": [
    "## Acknowledgments\n",
    "I would like to acknowledge the following people for their aid to this project.\n",
    "- Syed Fahad, who generated billions of digits in these constants' expansion. His results for $\\pi$ are found [here](https://drive.google.com/drive/folders/1--Qh9Xxq1i6oeHnTXzKrQ9FoguHreBKy) and for $\\gamma$ [here](https://drive.google.com/drive/folders/15LjUnGcZiDAJLptqwl_Wf69zFLV0HkIK).\n",
    "- Matt Rendina, who has demonstrated a patience in helping me to get my code to work on Ohio State University's Unity cluster that is nothing short of saintly, and whose insights and advice made this project possible.\n",
    "- Joey Houser, whose friendship and perspective buoyed my spirits and encouraged me to finish this project."
   ]
  },
  {
   "cell_type": "markdown",
   "id": "27111fa2",
   "metadata": {},
   "source": [
    "#### Import statements"
   ]
  },
  {
   "cell_type": "code",
   "execution_count": 1,
   "id": "d24c4bfa",
   "metadata": {},
   "outputs": [
    {
     "name": "stderr",
     "output_type": "stream",
     "text": [
      "In C:\\Users\\pjmil\\anaconda3\\lib\\site-packages\\matplotlib\\mpl-data\\stylelib\\_classic_test.mplstyle: \n",
      "The text.latex.preview rcparam was deprecated in Matplotlib 3.3 and will be removed two minor releases later.\n",
      "In C:\\Users\\pjmil\\anaconda3\\lib\\site-packages\\matplotlib\\mpl-data\\stylelib\\_classic_test.mplstyle: \n",
      "The mathtext.fallback_to_cm rcparam was deprecated in Matplotlib 3.3 and will be removed two minor releases later.\n",
      "In C:\\Users\\pjmil\\anaconda3\\lib\\site-packages\\matplotlib\\mpl-data\\stylelib\\_classic_test.mplstyle: Support for setting the 'mathtext.fallback_to_cm' rcParam is deprecated since 3.3 and will be removed two minor releases later; use 'mathtext.fallback : 'cm' instead.\n",
      "In C:\\Users\\pjmil\\anaconda3\\lib\\site-packages\\matplotlib\\mpl-data\\stylelib\\_classic_test.mplstyle: \n",
      "The validate_bool_maybe_none function was deprecated in Matplotlib 3.3 and will be removed two minor releases later.\n",
      "In C:\\Users\\pjmil\\anaconda3\\lib\\site-packages\\matplotlib\\mpl-data\\stylelib\\_classic_test.mplstyle: \n",
      "The savefig.jpeg_quality rcparam was deprecated in Matplotlib 3.3 and will be removed two minor releases later.\n",
      "In C:\\Users\\pjmil\\anaconda3\\lib\\site-packages\\matplotlib\\mpl-data\\stylelib\\_classic_test.mplstyle: \n",
      "The keymap.all_axes rcparam was deprecated in Matplotlib 3.3 and will be removed two minor releases later.\n",
      "In C:\\Users\\pjmil\\anaconda3\\lib\\site-packages\\matplotlib\\mpl-data\\stylelib\\_classic_test.mplstyle: \n",
      "The animation.avconv_path rcparam was deprecated in Matplotlib 3.3 and will be removed two minor releases later.\n",
      "In C:\\Users\\pjmil\\anaconda3\\lib\\site-packages\\matplotlib\\mpl-data\\stylelib\\_classic_test.mplstyle: \n",
      "The animation.avconv_args rcparam was deprecated in Matplotlib 3.3 and will be removed two minor releases later.\n"
     ]
    }
   ],
   "source": [
    "import matplotlib.pyplot as plt\n",
    "import numpy as np\n",
    "import os\n",
    "from scipy.optimize import curve_fit\n",
    "import time\n",
    "%matplotlib inline"
   ]
  },
  {
   "cell_type": "markdown",
   "id": "3d795156",
   "metadata": {},
   "source": [
    "## Fitting on a simple example\n",
    "Currently, we have the first 25,000 digits each of Apery's constant ($\\zeta(3)$; see [A013631](https://oeis.org/A013631)) and $\\log(2)$ (see [A016730](https://oeis.org/A016730)).\n",
    "We can use the former as a test case with a small amount of data to demonstrate the overall power-law-like behavior of these fundamental constants' simple continued-fraction expansions."
   ]
  },
  {
   "cell_type": "code",
   "execution_count": 2,
   "id": "cc25dfb3",
   "metadata": {},
   "outputs": [],
   "source": [
    "data_cluster = np.loadtxt(\"contfract_idx_log2.txt\", skiprows = 1, usecols = (1))"
   ]
  },
  {
   "cell_type": "code",
   "execution_count": 3,
   "id": "5fb12597",
   "metadata": {},
   "outputs": [],
   "source": [
    "hist, bins = np.histogram(data_cluster, bins = int(np.max(data_cluster)) - 1)"
   ]
  },
  {
   "cell_type": "markdown",
   "id": "3e5af66e",
   "metadata": {},
   "source": [
    "#### Scatter plot of histogram bin maxima"
   ]
  },
  {
   "cell_type": "code",
   "execution_count": 4,
   "id": "6a74ac62",
   "metadata": {},
   "outputs": [
    {
     "data": {
      "text/plain": [
       "(0.1, 16608)"
      ]
     },
     "execution_count": 4,
     "metadata": {},
     "output_type": "execute_result"
    },
    {
     "data": {
      "image/png": "[encoded data removed]",
      "text/plain": [
       "<Figure size 576x216 with 1 Axes>"
      ]
     },
     "metadata": {
      "needs_background": "light"
     },
     "output_type": "display_data"
    }
   ],
   "source": [
    "fig, ax = plt.subplots(1, 1, tight_layout=True, figsize=(8, 3))\n",
    "ax.scatter(bins[:-1], hist)\n",
    "ax.semilogx()\n",
    "ax.semilogy()\n",
    "# ax.set_yscale('log')\n",
    "# plt.yscale('log')\n",
    "ax.set_xlim(1, 100)\n",
    "ax.set_ylim(0.1, 2 * max(hist))"
   ]
  },
  {
   "cell_type": "markdown",
   "id": "b61d8f08",
   "metadata": {},
   "source": [
    "#### Function for fitting\n",
    "The linear log-log behavior in the plot above suggests that the histogram can be described accurately by a power law of the form\n",
    "\n",
    "$p(x) = P x^{-\\Upsilon}$, \n",
    "\n",
    "where $p(x)$ is the relative probability of finding some integer $x$ in the continued-fraction expansion, $P$ is a constant for the magnitude of the power law, and $\\Upsilon$ is the power law's exponent.\n",
    "It is from this this exponent that this project gets its name.\n",
    "I chose $\\Upsilon$ above all the other options because I think it's a very comely letter that is badly underused in math and physics; and if I ever get the opportunity to name another numerical quantity, you had better believe it's going to be capital xi, $\\Xi$."
   ]
  },
  {
   "cell_type": "code",
   "execution_count": 5,
   "id": "f7c4511b",
   "metadata": {},
   "outputs": [],
   "source": [
    "def func_power(x, P, t):\n",
    "    return P * x**(-t)"
   ]
  },
  {
   "cell_type": "markdown",
   "id": "6b10c307",
   "metadata": {},
   "source": [
    "#### Fits to the power law"
   ]
  },
  {
   "cell_type": "code",
   "execution_count": 6,
   "id": "a69b2ebb",
   "metadata": {},
   "outputs": [
    {
     "name": "stdout",
     "output_type": "stream",
     "text": [
      "[8.3862162e+03 1.4364816e+00]\n",
      "[4.17975659e-01 1.01910031e-04]\n"
     ]
    }
   ],
   "source": [
    "popt_linear, pcov_linear = curve_fit(func_power, bins[:-1], hist)\n",
    "print(popt_linear)\n",
    "print(np.sqrt(np.diag(pcov_linear)))\n",
    "ax.plot(bins, func_power(bins, *popt_linear))\n",
    "ax.set_ylim([10**(0), 10**(5)])\n",
    "fig.figure"
   ]
  },
  {
   "cell_type": "markdown",
   "id": "71e1e516",
   "metadata": {},
   "source": [
    "## Scaling the power law to larger data sets\n",
    "Now that we have seen some evidence that a power law well describes the distribution of digits in a continued-fraction expansion for a transcendental constant that appears in nature, it is natural to broaden our inquiry to other constants.\n",
    "In our case, billions of digits in these expansions are available online for $\\pi$ and $\\gamma$ split into large files of about on gigabyte each called \"iterations.\"\n",
    "Our plan of attack is simple: for each iteration, fit its digits to a power law and extract the exponent (which is accomplished by `scripts/histogram_fit.py`, and then histogram the results to see if there is common behavior across constants."
   ]
  },
  {
   "cell_type": "markdown",
   "id": "3650f939",
   "metadata": {},
   "source": [
    "#### Extracts the exponents and their error from files generated by `histogram_fit.py`"
   ]
  },
  {
   "cell_type": "code",
   "execution_count": 7,
   "id": "507fc269",
   "metadata": {},
   "outputs": [],
   "source": [
    "pi_Ups = []\n",
    "pi_Ups_var = []\n",
    "gamma_Ups = []\n",
    "gamma_Ups_var = []\n",
    "apery_Ups = 1.43101328\n",
    "log2_Ups = 1.4364816\n",
    "vertline_Ups = [apery_Ups, log2_Ups]\n",
    "\n",
    "for i in range(1, 93):\n",
    "    try:\n",
    "        if i < 10:\n",
    "            file = open(\"pi_fit_it0\" + str(i) + \".txt\")\n",
    "        else:\n",
    "            file = open(\"pi_fit_it\" + str(i) + \".txt\")\n",
    "        \n",
    "        [Ups, var] = list(map(np.float64, file.read().splitlines()))\n",
    "        pi_Ups.append(Ups)\n",
    "        pi_Ups_var.append(var)\n",
    "        file.close()\n",
    "    except:\n",
    "        pass\n",
    "\n",
    "for i in range(1, 42):\n",
    "    try:\n",
    "        if i < 10:\n",
    "            file = open(\"gamma_fit_it0\" + str(i) + \".txt\")\n",
    "        else:\n",
    "            file = open(\"gamma_fit_it\" + str(i) + \".txt\")\n",
    "        \n",
    "        [Ups, var] = list(map(np.float64, file.read().splitlines()))\n",
    "        gamma_Ups.append(Ups)\n",
    "        gamma_Ups_var.append(var)\n",
    "        file.close()\n",
    "    except:\n",
    "        pass"
   ]
  },
  {
   "cell_type": "markdown",
   "id": "8aaf17bf",
   "metadata": {},
   "source": [
    "#### Histograms the extracted values for the power-law exponent $\\Upsilon$ by constant and plots their mean and mean squared error"
   ]
  },
  {
   "cell_type": "code",
   "execution_count": 8,
   "id": "a3c38c45",
   "metadata": {},
   "outputs": [
    {
     "name": "stdout",
     "output_type": "stream",
     "text": [
      "pi mean: 1.43174\n",
      "pi mean standard error: 1.076888309965307e-05\n",
      "gamma mean: 1.43174\n",
      "gamma mean standard error: 1.4075458234792594e-05\n"
     ]
    },
    {
     "data": {
      "image/png": "[encoded data removed]",
      "text/plain": [
       "<Figure size 720x540 with 1 Axes>"
      ]
     },
     "metadata": {
      "needs_background": "light"
     },
     "output_type": "display_data"
    }
   ],
   "source": [
    "fig, axes = plt.subplots(nrows=1, ncols=1, figsize = (10, 7.5))\n",
    "\n",
    "constants_list = [\"pi\", \"gamma\"]\n",
    "hist_labels_dict = {\"pi\" : r'$\\pi$', \"gamma\" : r'$\\gamma$'}\n",
    "hist_colors_dict = {\"pi\" : \"lightgreen\", \"gamma\" : \"orange\",\n",
    "                   \"apery\" : \"lightskyblue\", \"log2\" : \"yellow\"}\n",
    "vertline_list = [\"apery\", \"log2\"]\n",
    "vertline_vals_dict = {\"apery\" : 1.43101328, \"log2\" : 1.4364816}\n",
    "vertline_mse_dict = {\"apery\" : 2.66965761e-04, \"log2\" : 1.01910031e-04}\n",
    "vertline_labels_dict = {\"apery\" : r'$\\zeta(3)$', \"log2\" : r'ln(2)', \n",
    "                       \"pi\" : r'$\\pi$ (avg.)', \"gamma\" : r'$\\gamma$ (avg.)'}\n",
    "vertline_colors_dict = {\"apery\" : \"royalblue\", \"log2\" : \"gold\", \n",
    "                       \"pi\" : \"seagreen\", \"gamma\" : \"darkorange\"}\n",
    "\n",
    "hist_bins = np.arange(1.43160, 1.432, 0.00002)\n",
    "\n",
    "hist_data = []\n",
    "hist_data.append(pi_Ups)\n",
    "hist_data.append(gamma_Ups)\n",
    "hist_data_error = []\n",
    "hist_data_error.append(pi_Ups_var)\n",
    "hist_data_error.append(gamma_Ups_var)\n",
    "\n",
    "all_data = []\n",
    "all_data_error = []\n",
    "for (l, l_err) in zip(hist_data, hist_data_error):\n",
    "    all_data.extend(l)\n",
    "    all_data_error.extend(l_err)\n",
    "\n",
    "for (const, dat, err) in zip(constants_list, hist_data, hist_data_error):\n",
    "    axes.hist(dat, \n",
    "            hist_bins, \n",
    "            histtype='bar', \n",
    "            stacked=False, \n",
    "            label = hist_labels_dict[const], \n",
    "            color = hist_colors_dict[const], \n",
    "            alpha = 0.5)\n",
    "    \n",
    "    mean = np.around(np.average(dat, weights = np.array(err)**(-2)), \n",
    "                     decimals = 5)\n",
    "    print(const + \" mean: \" + str(mean))\n",
    "    vertline_vals_dict[const] = mean\n",
    "    \n",
    "    mse = np.std(dat, ddof=1) / np.sqrt(len(dat))\n",
    "    print(const + \" mean standard error: \" + str(mse))\n",
    "    vertline_mse_dict[const] = mse\n",
    "\n",
    "for l in constants_list + vertline_list:\n",
    "    axes.axvspan(vertline_vals_dict[l] - vertline_mse_dict[l], \n",
    "                vertline_vals_dict[l] + vertline_mse_dict[l], \n",
    "                color = hist_colors_dict[l], \n",
    "                alpha = 0.5)\n",
    "    axes.axvline(vertline_vals_dict[l],\n",
    "                 label = vertline_labels_dict[l], \n",
    "                 color = vertline_colors_dict[l])\n",
    "\n",
    "axes.set_xticks(np.arange(1.431, 1.432, 0.0001))\n",
    "axes.set_xlim(np.min(hist_bins), np.max(hist_bins))\n",
    "axes.set_ylim(0, 11)\n",
    "\n",
    "axes.legend()\n",
    "\n",
    "fig.tight_layout()\n",
    "plt.show()"
   ]
  },
  {
   "cell_type": "markdown",
   "id": "b2c37e4d",
   "metadata": {},
   "source": [
    "#### Using all available histogrammed data, we arrive at our best-fit value for $\\Upsilon$ accompanied by error bars"
   ]
  },
  {
   "cell_type": "code",
   "execution_count": 9,
   "id": "3fa6707c",
   "metadata": {},
   "outputs": [
    {
     "name": "stdout",
     "output_type": "stream",
     "text": [
      "Upsilon = 1.431737 +/- 8.759400944538879e-06\n"
     ]
    }
   ],
   "source": [
    "Upsilon = np.around(np.average(all_data,\n",
    "                        weights = (np.array(all_data_error))**(-2)),     \n",
    "        decimals = 6\n",
    "        )\n",
    "Upsilon_mse = np.std(all_data, ddof=1) / np.sqrt(len(all_data))\n",
    "print(\"Upsilon = \" + str(Upsilon) + \" +/- \" + str(Upsilon_mse))"
   ]
  },
  {
   "cell_type": "markdown",
   "id": "afd79331",
   "metadata": {},
   "source": [
    "And there you have it: $\\Upsilon = 1.431737 \\pm 0.000008$.\n",
    "\n",
    "Of course we'll do what we can to refine that answer, but for now that will suffice to start generating our own constants in `constant_generator.ipynb`."
   ]
  },
  {
   "cell_type": "code",
   "execution_count": null,
   "id": "4763ad88",
   "metadata": {},
   "outputs": [],
   "source": []
  }
 ],
 "metadata": {
  "kernelspec": {
   "display_name": "Python 3 (ipykernel)",
   "language": "python",
   "name": "python3"
  },
  "language_info": {
   "codemirror_mode": {
    "name": "ipython",
    "version": 3
   },
   "file_extension": ".py",
   "mimetype": "text/x-python",
   "name": "python",
   "nbconvert_exporter": "python",
   "pygments_lexer": "ipython3",
   "version": "3.8.13"
  }
 },
 "nbformat": 4,
 "nbformat_minor": 5
}
