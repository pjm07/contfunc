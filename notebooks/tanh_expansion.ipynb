{
 "cells": [
  {
   "cell_type": "markdown",
   "id": "f0f179c5",
   "metadata": {},
   "source": [
    "# Continued hyperbolic-tangent expansion\n",
    "This notebook focuses on the continued hyperbolic-tangent (\"tanh\") expansion. \n",
    "For some positive real number $r$ it takes the general form\n",
    "\n",
    "$r = b_{0} + \\mathrm{tanh}(b_{1} + \\mathrm{tanh}(b_{2} + \\mathrm{tanh}(b_{3} + \\mathrm{tanh}(\\dots))))$.\n",
    "\n",
    "Here, the series $B = \\{b_{0}; b_{1}, b_{2}, b_{3}, \\dots$ contains the _digits_ of the simple continued hyperbolic-tangent expansion of $r$, all of which are natural numbers.\n",
    "($b_{0}$, the whole-number part of $r$ is followed by a semicolon because it is only debatably part of a number's canonical expansion.\n",
    "We include it in the fitting procedure everywhere in this library.)\n",
    "\n",
    "Hyperbolic tangent has the necessary properties outlined in [Rényi (1957)](https://link.springer.com/article/10.1007/BF02020331) for a continued expansion in a function that is increasing on $[0, \\infty)$.\n",
    "Its inverse ($\\mathrm{tanh}^{-1}$, or $\\mathrm{arctanh}$) also presents no problems in the extraction of $B$, which occurs as follows:\n",
    "\n",
    "$$ a_{n} =   \\left\\{\n",
    "\\begin{array}{ll}\n",
    "      r & n = 0 \\\\\n",
    "      \\mathrm{tanh}^{-1}(a_{n - 1} - b_{n - 1}) & n > 0 \\\\\n",
    "\\end{array} \n",
    "\\right.  $$ with\n",
    "\n",
    "$b_{n} = \\lfloor a_{n} \\rfloor$.\n",
    "\n",
    "Our goal is to learn just how regular the seemingly random digits of these constants' continued hyperbolic-tangent expansions really are.\n",
    "Currently, we conduct a rigorous fitting procedure and draw conclusions only about the circle constant $\\pi$ (\"pi\") and the Euler's number $e$ (\"e\").\n",
    "Our hope is to expand to the consideration of other important constants of nature as well."
   ]
  },
  {
   "cell_type": "markdown",
   "id": "e315ed91",
   "metadata": {},
   "source": [
    "### Import statements"
   ]
  },
  {
   "cell_type": "code",
   "execution_count": 1,
   "id": "8e4174ea",
   "metadata": {
    "ExecuteTime": {
     "end_time": "2025-02-08T21:11:41.132027Z",
     "start_time": "2025-02-08T21:11:41.097119Z"
    }
   },
   "outputs": [],
   "source": [
    "import sys\n",
    "sys.path.append(\"C:/Users/pjmil/Research/contfunc\")\n",
    "\n",
    "from fccf.constants import *\n",
    "from fccf.functions import *\n",
    "import numpy as np\n",
    "from mpmath import mp"
   ]
  },
  {
   "cell_type": "markdown",
   "id": "588e93dd",
   "metadata": {},
   "source": [
    "### Setting `mpmath` precision"
   ]
  },
  {
   "cell_type": "code",
   "execution_count": 2,
   "id": "528b115e",
   "metadata": {},
   "outputs": [],
   "source": [
    "places = 1000\n",
    "mp.dps = places"
   ]
  },
  {
   "cell_type": "markdown",
   "id": "789488e9",
   "metadata": {},
   "source": [
    "### Sets the function of interest for the expansion"
   ]
  },
  {
   "cell_type": "code",
   "execution_count": 3,
   "id": "af383e49",
   "metadata": {},
   "outputs": [],
   "source": [
    "CF = TanhCF"
   ]
  },
  {
   "cell_type": "markdown",
   "id": "cc4e6a10",
   "metadata": {},
   "source": [
    "### Extracts $B$"
   ]
  },
  {
   "cell_type": "code",
   "execution_count": 4,
   "id": "375b981e",
   "metadata": {},
   "outputs": [
    {
     "name": "stdout",
     "output_type": "stream",
     "text": [
      "100000 terms.\n",
      "200000 terms.\n",
      "300000 terms.\n",
      "400000 terms.\n",
      "500000 terms.\n",
      "600000 terms.\n",
      "700000 terms.\n",
      "800000 terms.\n",
      "900000 terms.\n",
      "1000000 terms.\n"
     ]
    }
   ],
   "source": [
    "# target value for expansion\n",
    "r = mp.mpmathify(gamma_1000_str)\n",
    "\n",
    "# maximum digits in B\n",
    "i_max = 1000000\n",
    "i = 0\n",
    "\n",
    "# empty lists for the expansions\n",
    "a_list = []\n",
    "b_list = []\n",
    "nonzero_indices = []\n",
    "nonzero_entries = []\n",
    "\n",
    "# extracts the digits\n",
    "while i < i_max:\n",
    "    if i == 0:\n",
    "        a_list.append(r)\n",
    "    else:\n",
    "        a_list.append(CF.inv_func(mp.fsub(a_list[i - 1], b_list[i - 1])))\n",
    "\n",
    "    b_list.append(int(mp.floor(a_list[i])))\n",
    "\n",
    "    if b_list[i] != 0:\n",
    "        nonzero_indices.append(i)\n",
    "        nonzero_entries.append(b_list[i])\n",
    "\n",
    "    i += 1\n",
    "\n",
    "    # prints the number of terms every 10% of the way to the total\n",
    "    if i % (i_max // 10) == 0:\n",
    "        print(str(i) + \" terms.\")"
   ]
  },
  {
   "cell_type": "markdown",
   "id": "36405142",
   "metadata": {},
   "source": [
    "### Prints results\n",
    "For continued hyperbolic-tangent expansions, $B$ is very sparse, and it is more worthwhile to consider those entries (both their values and their positions) that are nonzero."
   ]
  },
  {
   "cell_type": "code",
   "execution_count": 5,
   "id": "8aba2dfb",
   "metadata": {},
   "outputs": [
    {
     "name": "stdout",
     "output_type": "stream",
     "text": [
      "There are 41 nonzero entries in the first 1000000 terms of the continued hyperbolic-tangent expansion.\n",
      "Their indices are [3, 300, 614, 620, 644, 794, 795, 805, 817, 818, 819, 822, 829, 832, 954, 962, 1135, 1173, 1268, 1375, 1384, 1463, 1478, 1480, 13480, 13483, 13488, 13546, 13565, 20554, 30839, 30981, 30987, 30989, 31030, 31031, 106807, 106824, 106825, 106933, 106972].\n",
      "Their values are [1, 1, 2, 1, 1, 1, 1, 2, 1, 1, 1, 2, 1, 1, 1, 1, 1, 1, 2, 2, 1, 1, 1, 1, 1, 1, 2, 1, 1, 1, 1, 1, 1, 1, 2, 1, 1, 1, 1, 1, 1].\n"
     ]
    }
   ],
   "source": [
    "print(\"There are \" + str(len(nonzero_entries)) + \" nonzero entries in the first \" + str(i_max) +\\\n",
    "      \" terms of the continued hyperbolic-tangent expansion.\")\n",
    "print(\"Their indices are \" + str(nonzero_indices) + \".\")\n",
    "print(\"Their values are \" + str(nonzero_entries) + \".\")"
   ]
  },
  {
   "cell_type": "markdown",
   "id": "4a2b9f67",
   "metadata": {},
   "source": [
    "### Reconstructs the target value of interest"
   ]
  },
  {
   "cell_type": "code",
   "execution_count": 6,
   "id": "0bfa39a8",
   "metadata": {},
   "outputs": [
    {
     "name": "stdout",
     "output_type": "stream",
     "text": [
      "0.577215664901532860606512090082402431042159335939923598805767234884867726777664670936947063291746749514631447249537999888530169968480703654787576651083852175335193134245008792995207293255667092546730787184725084450572883928360414648743816727281239270435812741333241186596298880726437514932319655016790164633352601595300258054366591751661427180454449294717933071051762742595308809517364028494032424574573238668637215583250922164612622950416350281595589747763590603823550484659229727107417135163784210133107895888683951541691366143696332364243506208840801007216340353928760219949329108849480042237700906638461223713967999458985270089754534500817547777470116018792830161084135340458474738202716115416554045064573457345679734737097805701604542427195926902063528913232226718901644611615711495131330657550019001012267401829282243727016782575974829259704140503250921067462988293112483071909408024263763063960555956299996163107330503890946516678094429423186728045669310731820793498135264676151371537775822294\n",
      "0.0000000000000000000000000000000000000000000000000000000000000000000000000000000000000000000000000000000000000002690825924303340460058391814365973465610713609183071994979285447424666495369281657003641288240101194975927869248727371278677118939182622375489810037524645534336224740597091790972846704047288941421826657360989959586008287620927123686572358080900511638258244624431222844799973440590284647566943615038423222535083491869646031523185788578123945532705871139573310649114313479027447814696173126562507837662885688204374261218632043320382576790864670060267606937218361504454103869144106150590920534624402888056270927653648708452325883239774269420945816130578374518222457647239450062840675226696209004524158218845080043701967724538270580730223575075418483301881018289350569061237283748989063764018138679878884175695220270141374402059968230414032160801458138043020609010687469321560612900361667139963743537503124672345264764321618524859081598739023705030132670046080318973573226868082417920816516361943996310477225792413410292728503209692900418542091869912944191270609095239290724038308782155478806890001276292\n"
     ]
    }
   ],
   "source": [
    "num_est = mp.mpmathify('0.' + '0' * places)\n",
    "\n",
    "j = 0\n",
    "while j < len(b_list):\n",
    "    if j == 0:\n",
    "        num_est = CF.func(b_list[-1])\n",
    "    else:\n",
    "        num_est = mp.fadd(b_list[-j - 1], CF.func(num_est))\n",
    "    \n",
    "    j += 1\n",
    "    \n",
    "# prints the reconstruction\n",
    "print(num_est)\n",
    "# prints the error between the target value and its reconstruction through the continued \n",
    "# hyperbolic-tangent expansion\n",
    "print(mp.fabs(mp.fsub(num_est, r)))"
   ]
  },
  {
   "cell_type": "markdown",
   "id": "602011d5",
   "metadata": {},
   "source": [
    "### A few important results"
   ]
  },
  {
   "cell_type": "markdown",
   "id": "8ceceeab",
   "metadata": {},
   "source": [
    "$r = \\pi$\n",
    "\n",
    "precision: 500 places\n",
    "\n",
    "digits: 1,000,000"
   ]
  },
  {
   "cell_type": "code",
   "execution_count": 7,
   "id": "38d5b2ef",
   "metadata": {},
   "outputs": [],
   "source": [
    "pi_500_1000000 = [0, 73, 166, 207, 213, 216, 595, 986, 1069, 1075, 1117, 1118, 1135, 1369, \n",
    "        1383, 1397, 1422, 3986, 4040, 4041, 4042, 4043, 4075, 4083, 4476, 4501, 8497, 31301, \n",
    "        31304, 56570, 60320, 62888, 63025, 63573, 63600]"
   ]
  },
  {
   "cell_type": "markdown",
   "id": "d272fbf9",
   "metadata": {},
   "source": [
    "$r = e$\n",
    "\n",
    "precision: 2000 places\n",
    "\n",
    "digits: 1,000,000"
   ]
  },
  {
   "cell_type": "code",
   "execution_count": 8,
   "id": "39c0b868",
   "metadata": {},
   "outputs": [],
   "source": [
    "e_2000_1000000 = [0, 2, 7, 18, 56, 61, 225, 1333, 1374, 1385, 1391, 1399, 1449, 200067, \n",
    "                  200147, 200157, 200163, 200207, 200217, 200219, 200246, 200465, 200468, \n",
    "                  200503, 200585, 200590, 200592, 200702, 201228, 201238, 201239, 202242, \n",
    "                  202381, 202385, 202514, 223469, 224582, 224589, 224636, 224699, 225090, \n",
    "                  225177, 225226, 225362, 225363, 225380, 225550, 225693, 227067, 227208, \n",
    "                  227420, 227812, 227826, 228010, 228188, 228202, 228842, 228993, 228997, \n",
    "                  229094, 229102, 230027, 230032, 230045, 230094, 230149, 230189, 230874, \n",
    "                  231092, 231632, 231639, 237383, 238821, 262634, 262637, 265169, 265568, \n",
    "                  265604, 265877, 265878, 265908, 266097, 266137, 266293, 266295, 266355, \n",
    "                  266357, 266414, 266471, 266484, 266489, 266501, 266502, 267030, 267034, \n",
    "                  267175, 267177, 267218, 267277, 267365, 267389, 267443, 267445, 267447, \n",
    "                  267711, 267716, 272075, 272078, 272173, 272194, 273318, 273331, 273369, \n",
    "                  273370, 273372, 273384, 273385, 273438, 274667, 274674, 274675, 274676, \n",
    "                  274990, 274992, 275018, 275051, 275056, 275060, 275299, 275335, 275361, \n",
    "                  275399, 275400, 275401, 275923, 275925, 275933, 275934, 275935, 275938, \n",
    "                  275939, 275954, 276149, 276152, 283372, 283373, 283381, 283790, 283792, \n",
    "                  283806, 283818, 283947, 284019, 284020, 284022, 284183, 284191, 284192, \n",
    "                  284218, 284219, 284264, 284269, 284367, 284746, 284754, 284755, 284771, \n",
    "                  284772, 284773, 284776, 284832, 284836, 285234, 285271, 285276, 285279, \n",
    "                  285281, 285366, 285368, 285371, 285603, 285687, 286285, 286312, 286319, \n",
    "                  286328, 286351, 286479, 286509, 286516, 287898, 287937, 291216, 291236, \n",
    "                  291238, 291370, 291475, 291512, 291534, 291535, 294216, 294279, 294280, \n",
    "                  294283, 294287, 294320, 295529, 296701, 297329, 308183, 308240, 308241, \n",
    "                  308247, 310015, 310024, 310028, 310278, 310289, 310302, 310309, 310310, \n",
    "                  310319, 310322, 310323, 310385, 310435, 310712, 310725, 310829, 310856, \n",
    "                  310867]"
   ]
  },
  {
   "cell_type": "markdown",
   "id": "16334fad",
   "metadata": {},
   "source": [
    "$r = \\gamma_{E}$\n",
    "\n",
    "precision: 1000 places\n",
    "\n",
    "digits: 1,000,000"
   ]
  },
  {
   "cell_type": "code",
   "execution_count": null,
   "id": "ae23e15f",
   "metadata": {},
   "outputs": [],
   "source": [
    "gamma_1000_1000000 = [3, 300, 614, 620, 644, 794, 795, 805, 817, 818, 819, 822, 829, 832, \n",
    "                      954, 962, 1135, 1173, 1268, 1375, 1384, 1463, 1478, 1480, 13480, \n",
    "                      13483, 13488, 13546, 13565, 20554, 30839, 30981, 30987, 30989, 31030, \n",
    "                      31031, 106807, 106824, 106825, 106933, 106972]"
   ]
  }
 ],
 "metadata": {
  "kernelspec": {
   "display_name": "ContFunc",
   "language": "python",
   "name": "contfunc"
  },
  "language_info": {
   "codemirror_mode": {
    "name": "ipython",
    "version": 3
   },
   "file_extension": ".py",
   "mimetype": "text/x-python",
   "name": "python",
   "nbconvert_exporter": "python",
   "pygments_lexer": "ipython3",
   "version": "3.13.2"
  }
 },
 "nbformat": 4,
 "nbformat_minor": 5
}
