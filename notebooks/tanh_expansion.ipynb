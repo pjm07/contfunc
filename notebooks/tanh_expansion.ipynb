{
 "cells": [
  {
   "cell_type": "markdown",
   "id": "f0f179c5",
   "metadata": {},
   "source": [
    "# Continued hyperbolic-tangent expansion\n",
    "This notebook focuses on the continued hyperbolic-tangent (\"tanh\") expansion. \n",
    "For some positive real number $r$ it takes the general form\n",
    "\n",
    "$r = b_{0} + \\mathrm{tanh}(b_{1} + \\mathrm{tanh}(b_{2} + \\mathrm{tanh}(b_{3} + \\mathrm{tanh}(\\dots))))$.\n",
    "\n",
    "Here, the series $B = \\{b_{0}; b_{1}, b_{2}, b_{3}, \\dots$ contains the _digits_ of the simple continued-fraction expansion of $r$, all of which are natural numbers.\n",
    "($b_{0}$, the whole-number part of $r$ is followed by a semicolon because it is only debatably part of a number's canonical continued-fraction expansion.\n",
    "We include it in the fitting procedure everywhere in this library.)\n",
    "\n",
    "Hyperbolic tangent has the necessary properties outlined in [Rényi (1957)](https://link.springer.com/article/10.1007/BF02020331) for a continued expansion in a function that is increasing on $[0, \\infty)$.\n",
    "Its inverse ($\\mathrm{tanh}^{-1}$, or $\\mathrm{arctanh}$) also presents no problems in the extraction of $B$, which occurs as follows:\n",
    "\n",
    "$$ a_{n} =   \\left\\{\n",
    "\\begin{array}{ll}\n",
    "      r & n = 0 \\\\\n",
    "      \\mathrm{tanh}^{-1}(a_{n - 1} - b_{n - 1}) & n > 0 \\\\\n",
    "\\end{array} \n",
    "\\right.  $$ with\n",
    "\n",
    "$b_{n} = \\lfloor a_{n} \\rfloor$.\n",
    "\n",
    "Our goal is to learn just how regular the seemingly random digits of these constants' continued hyperbolic-tangent expansions really are.\n",
    "Currently, we conduct a rigorous fitting procedure and draw conclusions only about the circle constant $\\pi$ (\"pi\") and the Euler's number $e$ (\"e\").\n",
    "Our hope is to expand to the consideration of other important constants of nature as well."
   ]
  },
  {
   "cell_type": "markdown",
   "id": "e315ed91",
   "metadata": {},
   "source": [
    "### Import statements"
   ]
  },
  {
   "cell_type": "code",
   "execution_count": 1,
   "id": "8e4174ea",
   "metadata": {
    "ExecuteTime": {
     "end_time": "2025-02-08T21:11:41.132027Z",
     "start_time": "2025-02-08T21:11:41.097119Z"
    }
   },
   "outputs": [],
   "source": [
    "import sys\n",
    "sys.path.append(\"C:/Users/pjmil/Research/contfunc\")\n",
    "\n",
    "from fccf.constants import *\n",
    "from fccf.functions import *\n",
    "import numpy as np\n",
    "from mpmath import mp"
   ]
  },
  {
   "cell_type": "markdown",
   "id": "588e93dd",
   "metadata": {},
   "source": [
    "### Setting `mpmath` precision"
   ]
  },
  {
   "cell_type": "code",
   "execution_count": 2,
   "id": "528b115e",
   "metadata": {},
   "outputs": [],
   "source": [
    "places = 500\n",
    "mp.dps = places"
   ]
  },
  {
   "cell_type": "markdown",
   "id": "789488e9",
   "metadata": {},
   "source": [
    "### Sets the function of interest for the expansion"
   ]
  },
  {
   "cell_type": "code",
   "execution_count": 3,
   "id": "af383e49",
   "metadata": {},
   "outputs": [],
   "source": [
    "CF = TanhCF"
   ]
  },
  {
   "cell_type": "markdown",
   "id": "cc4e6a10",
   "metadata": {},
   "source": [
    "### Extracts $B$"
   ]
  },
  {
   "cell_type": "code",
   "execution_count": 4,
   "id": "375b981e",
   "metadata": {},
   "outputs": [
    {
     "name": "stdout",
     "output_type": "stream",
     "text": [
      "100000 terms.\n",
      "200000 terms.\n",
      "300000 terms.\n",
      "400000 terms.\n",
      "500000 terms.\n",
      "600000 terms.\n",
      "700000 terms.\n",
      "800000 terms.\n",
      "900000 terms.\n",
      "1000000 terms.\n"
     ]
    }
   ],
   "source": [
    "# target value for expansion\n",
    "r = mp.mpmathify(pi_500_str)\n",
    "\n",
    "# maximum digits in B\n",
    "i_max = 1000000\n",
    "i = 0\n",
    "\n",
    "# empty lists for the expansions\n",
    "a_list = []\n",
    "b_list = []\n",
    "nonzero_indices = []\n",
    "nonzero_entries = []\n",
    "\n",
    "# extracts the digits\n",
    "while i < i_max:\n",
    "    if i == 0:\n",
    "        a_list.append(r) # undefined for integers\n",
    "    else:\n",
    "        a_list.append(CF.inv_func(mp.fsub(a_list[i - 1], b_list[i - 1])))\n",
    "\n",
    "    b_list.append(int(mp.floor(a_list[i])))\n",
    "\n",
    "    if b_list[i] != 0:\n",
    "        nonzero_indices.append(i)\n",
    "        nonzero_entries.append(b_list[i])\n",
    "\n",
    "    i += 1\n",
    "\n",
    "    # prints the number of terms every 10% of the way to the total\n",
    "    if i % (i_max // 10) == 0:\n",
    "        print(str(i) + \" terms.\")"
   ]
  },
  {
   "cell_type": "markdown",
   "id": "36405142",
   "metadata": {},
   "source": [
    "### Prints results\n",
    "For continued hyperbolic-tangent expansions, $B$ is very sparse, and it is more worthwhile to consider those entries (both their values and their positions) that are nonzero."
   ]
  },
  {
   "cell_type": "code",
   "execution_count": 5,
   "id": "8aba2dfb",
   "metadata": {},
   "outputs": [
    {
     "name": "stdout",
     "output_type": "stream",
     "text": [
      "There are 35 nonzero entries in the first 1000000 terms of the continued hyperbolic-tangent expansion.\n",
      "Their indices are [0, 73, 166, 207, 213, 216, 595, 986, 1069, 1075, 1117, 1118, 1135, 1369, 1383, 1397, 1422, 3986, 4040, 4041, 4042, 4043, 4075, 4083, 4476, 4501, 8497, 31301, 31304, 56570, 60320, 62888, 63025, 63573, 63600].\n",
      "Their values are [3, 1, 1, 1, 1, 1, 1, 1, 1, 1, 1, 1, 2, 1, 3, 1, 1, 1, 1, 2, 1, 1, 1, 1, 1, 1, 1, 1, 1, 1, 1, 1, 1, 1, 1].\n"
     ]
    }
   ],
   "source": [
    "print(\"There are \" + str(len(nonzero_entries)) + \" nonzero entries in the first \" + str(i_max) +\\\n",
    "      \" terms of the continued hyperbolic-tangent expansion.\")\n",
    "print(\"Their indices are \" + str(nonzero_indices) + \".\")\n",
    "print(\"Their values are \" + str(nonzero_entries) + \".\")"
   ]
  },
  {
   "cell_type": "markdown",
   "id": "4a2b9f67",
   "metadata": {},
   "source": [
    "### Reconstructs the target value of interest"
   ]
  },
  {
   "cell_type": "code",
   "execution_count": 6,
   "id": "0bfa39a8",
   "metadata": {},
   "outputs": [
    {
     "name": "stdout",
     "output_type": "stream",
     "text": [
      "3.1415926535897932384626433832795028841971693993751058209749445923078164062862089986280348253421170679821479562905693799833802010959195508113296075445770313117993365500170376296333590785683764930844723322367426059463819252470877928389309988632194145879820505680942090825582449490967246112976628002462118466990248712728761529737719826310864368984676643940020698990043046382232500387293388591164654162144881309582532972046596386015475806535026458050642196275972084852952704606746995676619284303407417758\n",
      "0.00000000000000000000000000000000000000000000000000000000000000000000000000000000000000000000000000000000013022271292666371364351363103142039575186355144980565094755268490089147220056605457246184590963219206836971955152088138785539485578430205178732116359799882925126605220937755148878230959744889506187788798173504271202190774893833174281719324769997389052046100702589232557042779204528783547609539494492631211246238729345358456980127910914730005432844686517147745429689121105315722929950784227017330045449454060502255724660913223326590256016405025784364266060518006942895844084858361711809651025846630067\n"
     ]
    }
   ],
   "source": [
    "num_est = mp.mpmathify('0.' + '0' * places)\n",
    "\n",
    "j = 0\n",
    "while j < len(b_list):\n",
    "    if j == 0:\n",
    "        num_est = CF.func(b_list[-1])\n",
    "    else:\n",
    "        num_est = mp.fadd(b_list[-j - 1], CF.func(num_est))\n",
    "    \n",
    "    j += 1\n",
    "    \n",
    "# prints the reconstruction\n",
    "print(num_est)\n",
    "# prints the error between the target value and its reconstruction through the continued \n",
    "# hyperbolic-tangent expansion\n",
    "print(mp.fabs(mp.fsub(num_est, r)))"
   ]
  },
  {
   "cell_type": "markdown",
   "id": "602011d5",
   "metadata": {},
   "source": [
    "### A few important results"
   ]
  },
  {
   "cell_type": "markdown",
   "id": "8ceceeab",
   "metadata": {},
   "source": [
    "$r = \\pi$\n",
    "\n",
    "precision: 500 places\n",
    "\n",
    "digits: 1,000,000"
   ]
  },
  {
   "cell_type": "code",
   "execution_count": 7,
   "id": "38d5b2ef",
   "metadata": {},
   "outputs": [],
   "source": [
    "pi_500_1000000 = [0, 73, 166, 207, 213, 216, 595, 986, 1069, 1075, 1117, 1118, 1135, 1369, \n",
    "        1383, 1397, 1422, 3986, 4040, 4041, 4042, 4043, 4075, 4083, 4476, 4501, 8497, 31301, \n",
    "        31304, 56570, 60320, 62888, 63025, 63573, 63600]"
   ]
  }
 ],
 "metadata": {
  "kernelspec": {
   "display_name": "ContFunc",
   "language": "python",
   "name": "contfunc"
  },
  "language_info": {
   "codemirror_mode": {
    "name": "ipython",
    "version": 3
   },
   "file_extension": ".py",
   "mimetype": "text/x-python",
   "name": "python",
   "nbconvert_exporter": "python",
   "pygments_lexer": "ipython3",
   "version": "3.13.2"
  }
 },
 "nbformat": 4,
 "nbformat_minor": 5
}
